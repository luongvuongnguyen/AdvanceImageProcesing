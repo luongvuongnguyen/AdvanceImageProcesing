{
  "nbformat": 4,
  "nbformat_minor": 0,
  "metadata": {
    "colab": {
      "name": "Assignment 07.ipynb",
      "provenance": [],
      "collapsed_sections": []
    },
    "kernelspec": {
      "name": "python3",
      "display_name": "Python 3"
    }
  },
  "cells": [
    {
      "cell_type": "markdown",
      "metadata": {
        "id": "YHxRqsx4P9Xi",
        "colab_type": "text"
      },
      "source": [
        "**Plot training data**"
      ]
    },
    {
      "cell_type": "code",
      "metadata": {
        "id": "Cv_XiNPNNV3j",
        "colab_type": "code",
        "outputId": "fd5ae602-2696-4f50-dc8b-bf765f7dcf62",
        "colab": {
          "base_uri": "https://localhost:8080/",
          "height": 297
        }
      },
      "source": [
        "import numpy as np\n",
        "import matplotlib.pyplot as plt\n",
        "\n",
        "data    = np.genfromtxt(\"data-nonlinear.txt\", delimiter=',')\n",
        "\n",
        "pointX  = data[:, 0]\n",
        "pointY  = data[:, 1]\n",
        "label   = data[:, 2]\n",
        "\n",
        "pointX0 = pointX[label == 0]\n",
        "pointY0 = pointY[label == 0]\n",
        "\n",
        "pointX1 = pointX[label == 1]\n",
        "pointY1 = pointY[label == 1]\n",
        "\n",
        "plt.figure()\n",
        "plt.scatter(pointX0, pointY0, c='b')\n",
        "plt.scatter(pointX1, pointY1, c='r')\n",
        "plt.tight_layout()\n",
        "plt.gca().set_aspect('equal', adjustable='box')\n",
        "plt.show()\n"
      ],
      "execution_count": 1,
      "outputs": [
        {
          "output_type": "display_data",
          "data": {
            "image/png": "[encoded data removed]",
            "text/plain": [
              "<Figure size 432x288 with 1 Axes>"
            ]
          },
          "metadata": {
            "tags": [],
            "needs_background": "light"
          }
        }
      ]
    },
    {
      "cell_type": "markdown",
      "metadata": {
        "id": "suamNnDV8jjg",
        "colab_type": "text"
      },
      "source": [
        "**Main process**"
      ]
    },
    {
      "cell_type": "code",
      "metadata": {
        "id": "S1EBWdex8uzv",
        "colab_type": "code",
        "colab": {}
      },
      "source": [
        "#initial\n",
        "lr = 1\n",
        "num_iter = 1000\n",
        "theta = []\n",
        "\n",
        "# map_feature creates new features based on the first input X\n",
        "def map_feature(x1, x2, degree):\n",
        "  temp = np.ones(len(x1)).reshape(len(x1), 1)\n",
        "  for i in range(1, degree + 1):\n",
        "    for j in range(i + 1):\n",
        "      terms = (x1**(i-j) * x2**j).reshape(len(x1), 1)\n",
        "      temp = np.hstack((temp, terms))\n",
        "  return temp\n",
        "\n",
        "# Sigmoid is an Activation function that turns the linear function to a non-linear\n",
        "def sigmoid(Z):\n",
        "  A =  1 / (1 + np.exp(-Z))    \n",
        "  return A\n",
        "\n",
        "# Caculate the cost function\n",
        "def costFunction(h, y, lamda):\n",
        "  m = len(y) \n",
        "  J = 0\n",
        "  J_reg = (lamda / (2*m)) * np.sum(np.square(theta))\n",
        "  J = (-y * np.log(h) - (1 - y) * np.log(1 - h)).mean() + J_reg;\n",
        "  return (J)\n",
        "\n",
        "# Training model\n",
        "def training(X, y, lr, num_iter, lamda):\n",
        "  theta = np.zeros(X.shape[1])    \n",
        "  J_history = []\n",
        "  A_history = []\n",
        "  for i in range(num_iter):\n",
        "    z = np.dot(X, theta)\n",
        "    h = sigmoid(z)\n",
        "    acc = accuracy(X, y, theta)\n",
        "    cost = costFunction(h, y, lamda)\n",
        "    J_history.append(cost)\n",
        "    A_history.append(acc)\n",
        "    gradient = np.dot(X.T, (h - y)) / y.size\n",
        "    theta -= lr * (gradient + lamda * theta / y.size)\n",
        "  return theta, J_history, A_history\n",
        "\n",
        "def predict_prob(X, theta):\n",
        "  return sigmoid(np.dot(X, theta))\n",
        "\n",
        "def predict(X, theta):\n",
        "  return predict_prob(X, theta) >= 0.5\n",
        "\n",
        "def accuracy(X, y, theta):\n",
        "  preds = predict(X, theta)\n",
        "  return (preds == y).mean() * 100\n",
        "\n",
        "X_map = map_feature(pointX, pointY, 9)\n",
        "overfitting_theta, overfitting_cost, overfitting_accuracy = training(X_map, label, lr, num_iter, 0.005)\n",
        "justright_theta, justright_cost, justright_accuracy = training(X_map, label, lr, num_iter, 0.5)\n",
        "underfitting_theta, underfitting_cost, underfitting_accuracy = training(X_map, label, lr, num_iter, 5)"
      ],
      "execution_count": 0,
      "outputs": []
    },
    {
      "cell_type": "markdown",
      "metadata": {
        "id": "R5O3rERUTycm",
        "colab_type": "text"
      },
      "source": [
        "**Plot the training error with varying regularization parameters**"
      ]
    },
    {
      "cell_type": "code",
      "metadata": {
        "id": "A-N5OFexT63m",
        "colab_type": "code",
        "colab": {
          "base_uri": "https://localhost:8080/",
          "height": 497
        },
        "outputId": "6d3c4317-b01f-4cff-f87e-da7d488cf1de"
      },
      "source": [
        "plt.figure(figsize=(8, 8))\n",
        "plt.plot(overfitting_cost, label = \"over-fitting\", color = 'r')\n",
        "plt.plot(justright_cost, label = \"just-right\", color = 'g')\n",
        "plt.plot(underfitting_cost, label = \"under-fitting\", color = 'b')\n",
        "plt.xlabel(\"Iteration\")\n",
        "plt.ylabel(\"$J(\\Theta)$\")\n",
        "plt.legend()\n",
        "plt.show()"
      ],
      "execution_count": 3,
      "outputs": [
        {
          "output_type": "display_data",
          "data": {
            "image/png": "[encoded data removed]",
            "text/plain": [
              "<Figure size 576x576 with 1 Axes>"
            ]
          },
          "metadata": {
            "tags": [],
            "needs_background": "light"
          }
        }
      ]
    },
    {
      "cell_type": "markdown",
      "metadata": {
        "id": "kJigmPrrbenU",
        "colab_type": "text"
      },
      "source": [
        "**Values of the chosen regularization parameters**"
      ]
    },
    {
      "cell_type": "code",
      "metadata": {
        "id": "tacH28WCbmts",
        "colab_type": "code",
        "colab": {}
      },
      "source": [
        ""
      ],
      "execution_count": 0,
      "outputs": []
    }
  ]
}