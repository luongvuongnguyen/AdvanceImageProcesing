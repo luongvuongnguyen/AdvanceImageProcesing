{
  "nbformat": 4,
  "nbformat_minor": 0,
  "metadata": {
    "colab": {
      "name": "Assignment 04.ipynb",
      "provenance": [],
      "collapsed_sections": []
    },
    "kernelspec": {
      "name": "python3",
      "display_name": "Python 3"
    }
  },
  "cells": [
    {
      "cell_type": "markdown",
      "metadata": {
        "id": "-KvagEK2KhYN",
        "colab_type": "text"
      },
      "source": [
        "**1. Plot the estimated parameters of training dataset**"
      ]
    },
    {
      "cell_type": "code",
      "metadata": {
        "id": "3bNjqfNXDGKn",
        "colab_type": "code",
        "outputId": "3ef2658e-d898-4d11-d0a2-c724af7fc9d3",
        "colab": {
          "base_uri": "https://localhost:8080/",
          "height": 279
        }
      },
      "source": [
        "import matplotlib.pyplot as plt\n",
        "import pandas as pd\n",
        "import numpy as np\n",
        "\n",
        "data = pd.read_csv('data_train.csv', header=None)\n",
        "\n",
        "x = data[0].values\n",
        "y = data[1].values\n",
        "z = data[2].values\n",
        "h = data[3].values\n",
        "\n",
        "x0 = np.ones(len(x))\n",
        "X = np.array([x0, x, y, z]).T\n",
        "Y = np.array(h)\n",
        "# Initial parameters\n",
        "B = np.array([1, 1, 1, 1])\n",
        "lr = 0.00001\n",
        "\n",
        "t0 = []\n",
        "t1 = []\n",
        "t2 = []\n",
        "t3 = []\n",
        "t0.append(B[0])\n",
        "t1.append(B[1])\n",
        "t2.append(B[2])\n",
        "t3.append(B[3])\n",
        "\n",
        "def gradient_descent(X, Y, B, lr, iterations):\n",
        "  cost_history = [0] * iterations\n",
        "  m = len(Y)\n",
        "  for iteration in range(iterations):\n",
        "    # Hypothesis Values\n",
        "    h = X.dot(B)\n",
        "    # Difference b/w Hypothesis and Actual Y\n",
        "    loss = (h - Y) / 2\n",
        "    # Gradient Calculation\n",
        "    gradient = X.T.dot(loss) / m\n",
        "    # Changing Values of B using Gradient\n",
        "    B = B - lr * gradient   \n",
        "    # Track parameter\n",
        "    t0.append(B[0])\n",
        "    t1.append(B[1])\n",
        "    t2.append(B[2])\n",
        "    t3.append(B[3])\n",
        "  return B, cost_history\n",
        "\n",
        "iterations = 10000\n",
        "parameters, cost_history = gradient_descent(X, Y, B, lr, iterations)\n",
        "\n",
        "plt.plot(t0, color='k')\n",
        "plt.plot(t1, color='r')\n",
        "plt.plot(t2, color='g')\n",
        "plt.plot(t3, color='b')\n",
        "\n",
        "plt.xlabel('Iteration')\n",
        "plt.ylabel('Value')\n",
        "plt.show()\n"
      ],
      "execution_count": 64,
      "outputs": [
        {
          "output_type": "display_data",
          "data": {
            "image/png": "[encoded data removed]",
            "text/plain": [
              "<Figure size 432x288 with 1 Axes>"
            ]
          },
          "metadata": {
            "tags": [],
            "needs_background": "light"
          }
        }
      ]
    },
    {
      "cell_type": "markdown",
      "metadata": {
        "id": "GD-OLH_xW3qf",
        "colab_type": "text"
      },
      "source": [
        "**2. Plot tthe training eror using the training dataset**"
      ]
    },
    {
      "cell_type": "code",
      "metadata": {
        "id": "-q7wIPxvW_B_",
        "colab_type": "code",
        "colab": {
          "base_uri": "https://localhost:8080/",
          "height": 279
        },
        "outputId": "a4cd7549-4a1c-4579-80b0-c6fb800ba74f"
      },
      "source": [
        "data = pd.read_csv('data_train.csv', header=None)\n",
        "x_train = np.array(data.iloc[:,0:-1])\n",
        "y_train = np.array(data.iloc[:,[-1]])\n",
        "def EnergyTrainData(w1, w2, w3, b):\n",
        "    total_e = 0\n",
        "    for i in range(len(x_train)):\n",
        "        total_e += ((w1 * x_train[i][0] + w2 * x_train[i][1] + w3 * x_train[i][2] + b) - y_train[i]) ** 2\n",
        "    return total_e / (2 * float(len(x_train)))\n",
        "\n",
        "energy_train = []\n",
        "for i in range(iterations):\n",
        "  e = EnergyTrainData(t1[i], t2[i], t3[i], t0[i])\n",
        "  energy_train.append(e)\n",
        "\n",
        "plt.plot(energy_train, color='b')\n",
        "plt.xlabel('Iteration')\n",
        "plt.ylabel('Energy value')\n",
        "plt.show()"
      ],
      "execution_count": 65,
      "outputs": [
        {
          "output_type": "display_data",
          "data": {
            "image/png": "[encoded data removed]",
            "text/plain": [
              "<Figure size 432x288 with 1 Axes>"
            ]
          },
          "metadata": {
            "tags": [],
            "needs_background": "light"
          }
        }
      ]
    }
  ]
}