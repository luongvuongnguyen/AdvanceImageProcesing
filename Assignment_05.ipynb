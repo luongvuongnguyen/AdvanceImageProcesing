{
  "nbformat": 4,
  "nbformat_minor": 0,
  "metadata": {
    "colab": {
      "name": "Assignment - 05.ipynb",
      "provenance": []
    },
    "kernelspec": {
      "name": "python3",
      "display_name": "Python 3"
    }
  },
  "cells": [
    {
      "cell_type": "markdown",
      "metadata": {
        "id": "Gg_eM6OMjQH6",
        "colab_type": "text"
      },
      "source": [
        "**Loading data**"
      ]
    },
    {
      "cell_type": "code",
      "metadata": {
        "id": "baH-2Sm0oSrs",
        "colab_type": "code",
        "outputId": "14edee97-2775-4341-d37f-8dced9ffb956",
        "colab": {
          "base_uri": "https://localhost:8080/",
          "height": 320
        }
      },
      "source": [
        "import numpy as np\n",
        "from numpy import *\n",
        "import matplotlib.pyplot as plt\n",
        "\n",
        "data = np.genfromtxt(\"data.txt\", delimiter=',')\n",
        "\n",
        "data_x       = data[:, 0]\n",
        "data_y       = data[:, 1]\n",
        "label   = data[:, 2]\n",
        "\n",
        "x_label0    = data_x[label == 0]\n",
        "x_label1    = data_x[label == 1]\n",
        "\n",
        "y_label0    = data_y[label == 0]\n",
        "y_label1    = data_y[label == 1]\n",
        "\n",
        "plt.figure(figsize=(5, 5))\n",
        "plt.scatter(x_label0, y_label0, c='b', label='Label 0')\n",
        "plt.scatter(x_label1, y_label1, c='r', label='Label 1')\n",
        "plt.legend()\n",
        "plt.show()\n"
      ],
      "execution_count": 0,
      "outputs": [
        {
          "output_type": "display_data",
          "data": {
            "image/png": "[encoded data removed]",
            "text/plain": [
              "<Figure size 360x360 with 1 Axes>"
            ]
          },
          "metadata": {
            "tags": [],
            "needs_background": "light"
          }
        }
      ]
    },
    {
      "cell_type": "markdown",
      "metadata": {
        "id": "09uWa9sKlmLh",
        "colab_type": "text"
      },
      "source": [
        "**Main process**"
      ]
    },
    {
      "cell_type": "code",
      "metadata": {
        "id": "YZg5yPBGjKaC",
        "colab_type": "code",
        "colab": {}
      },
      "source": [
        "t0=[]\n",
        "t1=[]\n",
        "t2=[]\n",
        "Energy=[]\n",
        "class LogisticRegression():\n",
        "  def __init__(self, X, y, eta, w):\n",
        "    self.X = X\n",
        "    self.y = y        \n",
        "    self.eta = eta\n",
        "    self.w = w\n",
        "    self.m, self.n = np.shape(X)\n",
        "\n",
        "  def SigFunction(self, z):\n",
        "    return 1.0 / (1.0 + np.exp( -z ))  \n",
        "\n",
        "  def CostFunction(self, w, X, y):\n",
        "    w = w.reshape((self.n,1))\n",
        "    z = X * w\n",
        "    phi =self.SigFunction(z)\n",
        "    # calculating the cost function\n",
        "    part1 = np.multiply(y, np.log(phi))\n",
        "    part2 = np.multiply((1 - y), np.log(1 - phi))\n",
        "    J = (-part1 - part2).sum()/self.m\n",
        "    # calculating the gradient\n",
        "    grad = X.T * (phi - y) / self.m       \n",
        "    return J, grad    \n",
        "  \n",
        "  def GradientDescent(self, interation):\n",
        "    for i in range(0, interation):\n",
        "      J, grad = self.CostFunction(self.w, self.X, self.y)\n",
        "      self.w = self.w - self.eta*grad\n",
        "      t0.append(self.w[0, 0])\n",
        "      t1.append(self.w[1, 0])\n",
        "      t2.append(self.w[2, 0])\n",
        "      Energy.append(J)\n",
        "    return self.w\n",
        "\n",
        "  def Fit(self):      \n",
        "    interation = 100000\n",
        "    self.w = self.GradientDescent(interation)           \n",
        "    z = self.X * self.w\n",
        "    phi = self.SigFunction(z)        \n",
        "        \n",
        "  def plot(self):\n",
        "    if self.n == 3:\n",
        "      ind_1 = np.where(self.y == 1)\n",
        "      ind_0 = np.where(self.y == 0)\n",
        "      x1_1 = self.X[:, [1]].min()\n",
        "      x1_2 = self.X[:, [1]].max()\n",
        "      x2_1 = -(self.w[0, 0] + self.w[1, 0]*x1_1)/self.w[2, 0]\n",
        "      x2_2 = -(self.w[0, 0] + self.w[1, 0]*x1_2)/self.w[2, 0]\n",
        "      plt.plot(self.X[ind_1, [1]], self.X[ind_1, [2]], \"bo\", markersize=3)\n",
        "      plt.plot(self.X[ind_0, [1]], self.X[ind_0, [2]], \"ro\", markersize=3)                \n",
        "      plt.plot([x1_1, x1_2], [x2_1, x2_2], color='black', label='Decision Boundary')\n",
        "      plt.xlabel(\"Feature 1\")\n",
        "      plt.ylabel(\"Feature 2\")\n",
        "      plt.legend()\n",
        "      plt.show()\n",
        "    return 1\n",
        "# creating an instance of the Logisticr  \n",
        "X, y = data[:,[0,1]], _f[:,[2]]\n",
        "m = np.shape(X)[0]\n",
        "# add a column of 1\n",
        "X = np.hstack((np.matrix(np.ones((_m, 1))),X))\n",
        "y = np.matrix(_y)\n",
        "eta = 0.001 \n",
        "n= np.shape(X)[1]\n",
        "w = np.matrix(np.zeros((_n, 1)))\n",
        "eta = 0.001\n",
        "n= np.shape(X)[1]\n",
        "w = np.matrix(np.zeros((n, 1)))      \n",
        "lr = LogisticRegression(X, y, eta, w);\n",
        "lr.Fit()"
      ],
      "execution_count": 0,
      "outputs": []
    },
    {
      "cell_type": "markdown",
      "metadata": {
        "id": "nSW0NtwRtJMs",
        "colab_type": "text"
      },
      "source": [
        "**Plot Parameters**"
      ]
    },
    {
      "cell_type": "code",
      "metadata": {
        "id": "jnBnAot8tVCg",
        "colab_type": "code",
        "outputId": "a33cccb2-c394-40de-a1d0-d321d2bcbe22",
        "colab": {
          "base_uri": "https://localhost:8080/",
          "height": 265
        }
      },
      "source": [
        "plt.plot(t0, c='b')\n",
        "plt.plot(t1, c='r')\n",
        "plt.plot(t2, c='k')\n",
        "plt.show()"
      ],
      "execution_count": 0,
      "outputs": [
        {
          "output_type": "display_data",
          "data": {
            "image/png": "[encoded data removed]",
            "text/plain": [
              "<Figure size 432x288 with 1 Axes>"
            ]
          },
          "metadata": {
            "tags": [],
            "needs_background": "light"
          }
        }
      ]
    },
    {
      "cell_type": "markdown",
      "metadata": {
        "id": "mvVebpwtvfV4",
        "colab_type": "text"
      },
      "source": [
        "**Plot loss function**"
      ]
    },
    {
      "cell_type": "code",
      "metadata": {
        "id": "fFwOcwRjvhzU",
        "colab_type": "code",
        "outputId": "ee008107-d020-455b-cf09-fd7f6b1b35ae",
        "colab": {
          "base_uri": "https://localhost:8080/",
          "height": 265
        }
      },
      "source": [
        "plt.plot(Energy, c='b')\n",
        "plt.show()"
      ],
      "execution_count": 0,
      "outputs": [
        {
          "output_type": "display_data",
          "data": {
            "image/png": "[encoded data removed]",
            "text/plain": [
              "<Figure size 432x288 with 1 Axes>"
            ]
          },
          "metadata": {
            "tags": [],
            "needs_background": "light"
          }
        }
      ]
    },
    {
      "cell_type": "markdown",
      "metadata": {
        "id": "7Aik4jmEjYfa",
        "colab_type": "text"
      },
      "source": [
        "**Plot the obtained classifier**"
      ]
    },
    {
      "cell_type": "code",
      "metadata": {
        "id": "BUK8ARLgjg8g",
        "colab_type": "code",
        "outputId": "9520dc1b-e168-483c-995c-481d8987ea83",
        "colab": {
          "base_uri": "https://localhost:8080/",
          "height": 296
        }
      },
      "source": [
        "lr.plot()"
      ],
      "execution_count": 61,
      "outputs": [
        {
          "output_type": "display_data",
          "data": {
            "image/png": "[encoded data removed]",
            "text/plain": [
              "<Figure size 432x288 with 1 Axes>"
            ]
          },
          "metadata": {
            "tags": [],
            "needs_background": "light"
          }
        },
        {
          "output_type": "execute_result",
          "data": {
            "text/plain": [
              "1"
            ]
          },
          "metadata": {
            "tags": []
          },
          "execution_count": 61
        }
      ]
    }
  ]
}