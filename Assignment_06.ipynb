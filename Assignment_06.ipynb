{
  "nbformat": 4,
  "nbformat_minor": 0,
  "metadata": {
    "colab": {
      "name": "Assignment-06.ipynb",
      "provenance": [],
      "collapsed_sections": []
    },
    "kernelspec": {
      "name": "python3",
      "display_name": "Python 3"
    }
  },
  "cells": [
    {
      "cell_type": "code",
      "metadata": {
        "id": "WcGXa6GCV0ia",
        "colab_type": "code",
        "colab": {}
      },
      "source": [
        "import numpy as np\n",
        "import matplotlib.pyplot as plt\n",
        "\n",
        "# load_data reads the data from a txt file and divedes it into X (input) and y (output).\n",
        "def load_data():\n",
        "    points = np.genfromtxt('data-nonlinear.txt', delimiter = ',')\n",
        "    X = points[:,0:2]\n",
        "    y = points[:,2]\n",
        "    y = y.reshape((len(y),1))\n",
        "    return X.T, y.T\n",
        "\n",
        "# map_feature creates new features based on the first input X, in this case X goes from 2 features to 6\n",
        "def map_feature(X1, X2, shape, degree = 6):\n",
        "    new_X = np.ones((degree, shape))\n",
        "    new_X[0,:] = (X1)\n",
        "    new_X[1,:] = (X2)\n",
        "    new_X[2,:] = (X1**2)\n",
        "    new_X[3,:] = (X2**2)\n",
        "    new_X[4,:] = (X1*X2)\n",
        "    new_X[5,:] = ((X1*X2)**2)\n",
        "    return new_X\n",
        "\n",
        "# Function that plot the scattered input data X\n",
        "def plot_data(X, y):\n",
        "    accepted = plt.scatter(X[0, np.where(y == 1)], X[1, np.where(y == 1)], color='blue', label=\"label 1\",)\n",
        "    not_accepted = plt.scatter(X[0, np.where(y == 0)], X[1, np.where(y == 0)], color='red', label=\"label 0\")        \n",
        "    plt.legend(handles=[accepted, not_accepted], loc = 3)\n",
        "    plt.show()\n",
        "\n",
        "# W (weights) and b (bias) are  initialized with zeroes, could use np.zero() too.\n",
        "def initialize_with_zeros(dim):\n",
        "    W = np.zeros(shape=(dim, 1))\n",
        "    b = 0\n",
        "    return W, b\n",
        "\n",
        "# With some Weights and bias this function predicts the values after the activation function Sigmoid is done\n",
        "def predict(W, b, X):\n",
        "\n",
        "    m = X.shape[1]\n",
        "    y_hat = np.zeros((1,m))\n",
        "    W = W.reshape(X.shape[0], 1)\n",
        "\n",
        "    A = sigmoid(np.dot(W.T, X) + b)\n",
        "    \n",
        "    for i in range(A.shape[1]):\n",
        "        \n",
        "        if A[0,i] > 0.5:\n",
        "            y_hat[0,i] = 1\n",
        "        else:\n",
        "            y_hat[0,i] = 0\n",
        "    return y_hat\n",
        "\n",
        "# Sigmoid is an Activation function that turns the linear function to a non-linear\n",
        "def sigmoid(Z):\n",
        "    A =  1 / (1 + np.exp(-Z))    \n",
        "    return A\n",
        "\n",
        "# Calculates the Loss value after for all the examples and derives it to find the gradients for the weights and bias\n",
        "def propagate(W, b, X, y):\n",
        "    m = X.shape[1]\n",
        "    A = sigmoid(np.dot(W.T, X) + b)\n",
        "\n",
        "    cost = - (1 / m) * np.sum((y * np.log(A)) + ((1 - y) * np.log(1 - A)))\n",
        "\n",
        "    dw = (1 / m) * np.dot(X, (A - y).T)\n",
        "    db = (1 / m) * np.sum(A - y)\n",
        "\n",
        "    cost = np.squeeze(cost)\n",
        "\n",
        "    grads = {\"dw\": dw,\n",
        "             \"db\": db}\n",
        "    return grads, cost\n",
        "\n",
        "# Optimize does the backpropagation where it updates the weights and bias based on the gradients and the learning rate\n",
        "def optimize(W, b, X, y, num_iterations, learning_rate):\n",
        "    costs = []    \n",
        "    accuracys = []\n",
        "    for i in range(num_iterations):\n",
        "\n",
        "        grads, cost = propagate(W, b, X, y)\n",
        "\n",
        "        dw = grads[\"dw\"]\n",
        "        db = grads[\"db\"]\n",
        "\n",
        "        W = W - learning_rate * dw\n",
        "        b = b - learning_rate * db\n",
        "        \n",
        "        if i % 100 == 0:\n",
        "            plot_predicted_data(X, y, W, b)\n",
        "            hat = predict(W, b, X)\n",
        "            acc = 100 - np.mean(np.abs(hat - y)) * 100\n",
        "            accuracys.append(acc)\n",
        "            costs.append(cost)\n",
        "    \n",
        "    params = {\"W\": W,\n",
        "              \"b\": b}\n",
        "    \n",
        "    grads = {\"dw\": dw,\n",
        "             \"db\": db}\n",
        "    return params, grads, costs, accuracys\n",
        "\n",
        "# The model of the Machine Learning where it forwards propagate the data and backprogpagates the error\n",
        "def model(X, y, num_iterations = 10000, learning_rate = 0.1):    \n",
        "    W, b = initialize_with_zeros(X.shape[0])\n",
        "\n",
        "    parameters, grads, costs, accuracys = optimize(W, b, X, y, num_iterations, learning_rate)\n",
        "    W = parameters[\"W\"]\n",
        "    b = parameters[\"b\"]\n",
        "\n",
        "    y_hat = predict(W, b, X)\n",
        "    print(\"Train accuracy: {} %\".format(100 - np.mean(np.abs(y_hat - y)) * 100))\n",
        "    \n",
        "    d = {\"costs\": costs,\n",
        "         \"y_hat\" : accuracys,\n",
        "         \"W\" : W, \n",
        "         \"b\" : b,\n",
        "         \"learning_rate\" : learning_rate,\n",
        "         \"num_iterations\": num_iterations}\n",
        "    return d\n",
        "  \n",
        "# The cost is computed at each 100 iterations of the Gradient Descent, and its value is stored to show the decreased value plotted in a graph.\n",
        "def plot_cost_history(cost_history):\n",
        "    plt.figure(2)\n",
        "    plt.plot(cost_history, color = 'blue')    \n",
        "    plt.xlabel('Iterations')\n",
        "    plt.ylabel('Cost')\n",
        "    plt.show()\n",
        "\n",
        "def plot_accuracy_history(accuracy_history):\n",
        "    plt.figure(2)\n",
        "    plt.plot(accuracy_history, color = 'red')  \n",
        "    plt.show()\n",
        "\n",
        "# The data is plotted in a graph with the predicted boundary.\n",
        "# The plot is called when the learning is happening so it is able to see the change happening in the function\n",
        "def plot_predicted_data(X, y, W, b):\n",
        "    plt.clf()\n",
        "    accepted = plt.scatter(X[0, np.where(y == 1)], X[1, np.where(y == 1)], color='blue', label=\"label 0\",)\n",
        "    not_accepted = plt.scatter(X[0, np.where(y == 0)], X[1, np.where(y == 0)], color='red', label=\"label 1\")\n",
        "    u = np.linspace(-1, 1.5, 50)\n",
        "    v = np.linspace(-1, 1.5, 50)\n",
        "    \n",
        "    z = np.zeros((len(u), len(v)))\n",
        "    for i in range (len(u)):\n",
        "        for j in range (len(v)):\n",
        "            z[i,j] = np.dot(W.T, map_feature(u[i], v[j], 1)) + b\n",
        "    z = z.T\n",
        "    plt.contour(u, v, z, 0)    \n",
        "    plt.legend(handles=[accepted, not_accepted], loc = 3)\n",
        "    plt.draw()"
      ],
      "execution_count": 0,
      "outputs": []
    },
    {
      "cell_type": "markdown",
      "metadata": {
        "id": "DP9noTFmbm_n",
        "colab_type": "text"
      },
      "source": [
        "**Plot the training data**"
      ]
    },
    {
      "cell_type": "code",
      "metadata": {
        "id": "MoVmMfG7a_-q",
        "colab_type": "code",
        "colab": {
          "base_uri": "https://localhost:8080/",
          "height": 265
        },
        "outputId": "309d697a-4cd9-4880-c374-cf80f340dc9a"
      },
      "source": [
        "X, y = load_data()\n",
        "plot_data(X, y)"
      ],
      "execution_count": 32,
      "outputs": [
        {
          "output_type": "display_data",
          "data": {
            "image/png": "[encoded data removed]",
            "text/plain": [
              "<Figure size 432x288 with 1 Axes>"
            ]
          },
          "metadata": {
            "tags": [],
            "needs_background": "light"
          }
        }
      ]
    },
    {
      "cell_type": "markdown",
      "metadata": {
        "id": "7XvUpUedemnZ",
        "colab_type": "text"
      },
      "source": [
        "**Plot the high dimensional function**"
      ]
    },
    {
      "cell_type": "markdown",
      "metadata": {
        "id": "2iw1_IytgMph",
        "colab_type": "text"
      },
      "source": [
        "\\\\(z = \\theta_1 x + \\theta_2 y + \\theta_3 x^2 + \\theta_4 y^2 + \\theta_5 xy + \\theta_6 x^2 y^2, \\theta_0, \\theta_1, \\theta_2, \\theta_3, \\theta_4, \\theta_5, \\theta_6 \\in \\mathbb{R} \\\\)"
      ]
    },
    {
      "cell_type": "markdown",
      "metadata": {
        "id": "bgBeyuo_bbqU",
        "colab_type": "text"
      },
      "source": [
        "**Plot the training error**"
      ]
    },
    {
      "cell_type": "code",
      "metadata": {
        "id": "v3oD0ti7bZg-",
        "colab_type": "code",
        "colab": {
          "base_uri": "https://localhost:8080/",
          "height": 279
        },
        "outputId": "f7f8f0d5-07be-4523-d415-9376526b1509"
      },
      "source": [
        "plot_cost_history(d[\"costs\"])"
      ],
      "execution_count": 33,
      "outputs": [
        {
          "output_type": "display_data",
          "data": {
            "image/png": "[encoded data removed]",
            "text/plain": [
              "<Figure size 432x288 with 1 Axes>"
            ]
          },
          "metadata": {
            "tags": [],
            "needs_background": "light"
          }
        }
      ]
    },
    {
      "cell_type": "markdown",
      "metadata": {
        "id": "kNWDnVxob9Iy",
        "colab_type": "text"
      },
      "source": [
        "**Plot the training accuracy**"
      ]
    },
    {
      "cell_type": "code",
      "metadata": {
        "id": "fI9CDRqHcAt2",
        "colab_type": "code",
        "colab": {
          "base_uri": "https://localhost:8080/",
          "height": 266
        },
        "outputId": "2d58f24e-4d2d-4610-802d-3d6af2f88be9"
      },
      "source": [
        "plot_accuracy_history(d[\"y_hat\"])"
      ],
      "execution_count": 40,
      "outputs": [
        {
          "output_type": "display_data",
          "data": {
            "image/png": "[encoded data removed]",
            "text/plain": [
              "<Figure size 432x288 with 1 Axes>"
            ]
          },
          "metadata": {
            "tags": [],
            "needs_background": "light"
          }
        }
      ]
    },
    {
      "cell_type": "markdown",
      "metadata": {
        "id": "1I2L6xQ2bwMg",
        "colab_type": "text"
      },
      "source": [
        "**Final accuracy and optimal classifier**"
      ]
    },
    {
      "cell_type": "code",
      "metadata": {
        "id": "2G3016QVbVoB",
        "colab_type": "code",
        "colab": {
          "base_uri": "https://localhost:8080/",
          "height": 287
        },
        "outputId": "544e33a8-ff88-48a1-df68-e3424885341e"
      },
      "source": [
        "X = map_feature(X[0,:], X[1,:], X.shape[1])\n",
        "d = model(X, y)\n",
        "plot_predicted_data(X, y, d[\"W\"], d[\"b\"])"
      ],
      "execution_count": 39,
      "outputs": [
        {
          "output_type": "stream",
          "text": [
            "Train accuracy: 83.89830508474577 %\n"
          ],
          "name": "stdout"
        },
        {
          "output_type": "display_data",
          "data": {
            "image/png": "[encoded data removed]",
            "text/plain": [
              "<Figure size 432x288 with 1 Axes>"
            ]
          },
          "metadata": {
            "tags": [],
            "needs_background": "light"
          }
        }
      ]
    }
  ]
}