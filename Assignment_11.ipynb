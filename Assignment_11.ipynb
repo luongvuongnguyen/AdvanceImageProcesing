{
  "nbformat": 4,
  "nbformat_minor": 0,
  "metadata": {
    "colab": {
      "name": "assignment11.ipynb",
      "provenance": []
    },
    "kernelspec": {
      "name": "python3",
      "display_name": "Python 3"
    },
    "accelerator": "GPU",
    "widgets": {
      "application/vnd.jupyter.widget-state+json": {
        "87f12a7724bf49a8ab557fe16e96789f": {
          "model_module": "@jupyter-widgets/controls",
          "model_name": "HBoxModel",
          "state": {
            "_view_name": "HBoxView",
            "_dom_classes": [],
            "_model_name": "HBoxModel",
            "_view_module": "@jupyter-widgets/controls",
            "_model_module_version": "1.5.0",
            "_view_count": null,
            "_view_module_version": "1.5.0",
            "box_style": "",
            "layout": "IPY_MODEL_2d5d1943fed344ce999264c250d8edae",
            "_model_module": "@jupyter-widgets/controls",
            "children": [
              "IPY_MODEL_73e35715268b483ebafa2fe6f56d4c26",
              "IPY_MODEL_d675b0fb7dfa497f9d5ba042c4321905"
            ]
          }
        },
        "2d5d1943fed344ce999264c250d8edae": {
          "model_module": "@jupyter-widgets/base",
          "model_name": "LayoutModel",
          "state": {
            "_view_name": "LayoutView",
            "grid_template_rows": null,
            "right": null,
            "justify_content": null,
            "_view_module": "@jupyter-widgets/base",
            "overflow": null,
            "_model_module_version": "1.2.0",
            "_view_count": null,
            "flex_flow": null,
            "width": null,
            "min_width": null,
            "border": null,
            "align_items": null,
            "bottom": null,
            "_model_module": "@jupyter-widgets/base",
            "top": null,
            "grid_column": null,
            "overflow_y": null,
            "overflow_x": null,
            "grid_auto_flow": null,
            "grid_area": null,
            "grid_template_columns": null,
            "flex": null,
            "_model_name": "LayoutModel",
            "justify_items": null,
            "grid_row": null,
            "max_height": null,
            "align_content": null,
            "visibility": null,
            "align_self": null,
            "height": null,
            "min_height": null,
            "padding": null,
            "grid_auto_rows": null,
            "grid_gap": null,
            "max_width": null,
            "order": null,
            "_view_module_version": "1.2.0",
            "grid_template_areas": null,
            "object_position": null,
            "object_fit": null,
            "grid_auto_columns": null,
            "margin": null,
            "display": null,
            "left": null
          }
        },
        "73e35715268b483ebafa2fe6f56d4c26": {
          "model_module": "@jupyter-widgets/controls",
          "model_name": "FloatProgressModel",
          "state": {
            "_view_name": "ProgressView",
            "style": "IPY_MODEL_80a486fe9ad7459b9f2a3635bc977284",
            "_dom_classes": [],
            "description": "100%",
            "_model_name": "FloatProgressModel",
            "bar_style": "success",
            "max": 10000,
            "_view_module": "@jupyter-widgets/controls",
            "_model_module_version": "1.5.0",
            "value": 10000,
            "_view_count": null,
            "_view_module_version": "1.5.0",
            "orientation": "horizontal",
            "min": 0,
            "description_tooltip": null,
            "_model_module": "@jupyter-widgets/controls",
            "layout": "IPY_MODEL_930dbf459806488f8570a7b643accee2"
          }
        },
        "d675b0fb7dfa497f9d5ba042c4321905": {
          "model_module": "@jupyter-widgets/controls",
          "model_name": "HTMLModel",
          "state": {
            "_view_name": "HTMLView",
            "style": "IPY_MODEL_b28567fcd28b4b8187ee3afa25b7047f",
            "_dom_classes": [],
            "description": "",
            "_model_name": "HTMLModel",
            "placeholder": "​",
            "_view_module": "@jupyter-widgets/controls",
            "_model_module_version": "1.5.0",
            "value": " 10000/10000 [00:36&lt;00:00, 274.52it/s]",
            "_view_count": null,
            "_view_module_version": "1.5.0",
            "description_tooltip": null,
            "_model_module": "@jupyter-widgets/controls",
            "layout": "IPY_MODEL_32d647eeafa74dc79aa26e5505245221"
          }
        },
        "80a486fe9ad7459b9f2a3635bc977284": {
          "model_module": "@jupyter-widgets/controls",
          "model_name": "ProgressStyleModel",
          "state": {
            "_view_name": "StyleView",
            "_model_name": "ProgressStyleModel",
            "description_width": "initial",
            "_view_module": "@jupyter-widgets/base",
            "_model_module_version": "1.5.0",
            "_view_count": null,
            "_view_module_version": "1.2.0",
            "bar_color": null,
            "_model_module": "@jupyter-widgets/controls"
          }
        },
        "930dbf459806488f8570a7b643accee2": {
          "model_module": "@jupyter-widgets/base",
          "model_name": "LayoutModel",
          "state": {
            "_view_name": "LayoutView",
            "grid_template_rows": null,
            "right": null,
            "justify_content": null,
            "_view_module": "@jupyter-widgets/base",
            "overflow": null,
            "_model_module_version": "1.2.0",
            "_view_count": null,
            "flex_flow": null,
            "width": null,
            "min_width": null,
            "border": null,
            "align_items": null,
            "bottom": null,
            "_model_module": "@jupyter-widgets/base",
            "top": null,
            "grid_column": null,
            "overflow_y": null,
            "overflow_x": null,
            "grid_auto_flow": null,
            "grid_area": null,
            "grid_template_columns": null,
            "flex": null,
            "_model_name": "LayoutModel",
            "justify_items": null,
            "grid_row": null,
            "max_height": null,
            "align_content": null,
            "visibility": null,
            "align_self": null,
            "height": null,
            "min_height": null,
            "padding": null,
            "grid_auto_rows": null,
            "grid_gap": null,
            "max_width": null,
            "order": null,
            "_view_module_version": "1.2.0",
            "grid_template_areas": null,
            "object_position": null,
            "object_fit": null,
            "grid_auto_columns": null,
            "margin": null,
            "display": null,
            "left": null
          }
        },
        "b28567fcd28b4b8187ee3afa25b7047f": {
          "model_module": "@jupyter-widgets/controls",
          "model_name": "DescriptionStyleModel",
          "state": {
            "_view_name": "StyleView",
            "_model_name": "DescriptionStyleModel",
            "description_width": "",
            "_view_module": "@jupyter-widgets/base",
            "_model_module_version": "1.5.0",
            "_view_count": null,
            "_view_module_version": "1.2.0",
            "_model_module": "@jupyter-widgets/controls"
          }
        },
        "32d647eeafa74dc79aa26e5505245221": {
          "model_module": "@jupyter-widgets/base",
          "model_name": "LayoutModel",
          "state": {
            "_view_name": "LayoutView",
            "grid_template_rows": null,
            "right": null,
            "justify_content": null,
            "_view_module": "@jupyter-widgets/base",
            "overflow": null,
            "_model_module_version": "1.2.0",
            "_view_count": null,
            "flex_flow": null,
            "width": null,
            "min_width": null,
            "border": null,
            "align_items": null,
            "bottom": null,
            "_model_module": "@jupyter-widgets/base",
            "top": null,
            "grid_column": null,
            "overflow_y": null,
            "overflow_x": null,
            "grid_auto_flow": null,
            "grid_area": null,
            "grid_template_columns": null,
            "flex": null,
            "_model_name": "LayoutModel",
            "justify_items": null,
            "grid_row": null,
            "max_height": null,
            "align_content": null,
            "visibility": null,
            "align_self": null,
            "height": null,
            "min_height": null,
            "padding": null,
            "grid_auto_rows": null,
            "grid_gap": null,
            "max_width": null,
            "order": null,
            "_view_module_version": "1.2.0",
            "grid_template_areas": null,
            "object_position": null,
            "object_fit": null,
            "grid_auto_columns": null,
            "margin": null,
            "display": null,
            "left": null
          }
        }
      }
    }
  },
  "cells": [
    {
      "cell_type": "code",
      "metadata": {
        "id": "2vENyOJCmMj3",
        "colab_type": "code",
        "colab": {}
      },
      "source": [
        "import zipfile\n",
        "import numpy as np\n",
        "import re\n",
        "import nltk\n",
        "from sklearn.datasets import load_files\n",
        "nltk.download('stopwords')\n",
        "nltk.download('wordnet')\n",
        "import pickle\n",
        "from nltk.corpus import stopwords\n",
        "from nltk.stem import WordNetLemmatizer\n",
        "from sklearn.feature_extraction.text import CountVectorizer\n",
        "from sklearn.feature_extraction.text import TfidfTransformer\n",
        "from sklearn.model_selection import train_test_split\n",
        "import cupy as cp\n",
        "from tqdm.auto import tqdm\n",
        "\n",
        "review_zip = zipfile.ZipFile('movie_review.zip')\n",
        "review_zip.extractall('') \n",
        "review_zip.close()"
      ],
      "execution_count": 0,
      "outputs": []
    },
    {
      "cell_type": "markdown",
      "metadata": {
        "id": "RnnOHEOUf6mb",
        "colab_type": "text"
      },
      "source": [
        "**Loading data**"
      ]
    },
    {
      "cell_type": "code",
      "metadata": {
        "id": "jZZBleVsmfnJ",
        "colab_type": "code",
        "colab": {}
      },
      "source": [
        "review_data = load_files(r\"movie_review\")\n",
        "X, y = review_data.data, review_data.target\n",
        "lamda = 0.5\n",
        "dictionarys = []\n",
        "\n",
        "extraction = WordNetLemmatizer()\n",
        "\n",
        "for sen in range(0, len(X)):\n",
        "    dictionary = re.sub(r'\\W', ' ', str(X[sen]))\n",
        "    dictionary = re.sub(r'\\s+[a-zA-Z]\\s+', ' ', dictionary)\n",
        "    dictionary = re.sub(r'\\^[a-zA-Z]\\s+', ' ', dictionary) \n",
        "    dictionary = re.sub(r'\\s+', ' ', dictionary, flags=re.I)\n",
        "    dictionary = re.sub(r'^b\\s+', '', dictionary)\n",
        "    dictionary = dictionary.lower()\n",
        "    dictionary = dictionary.split()\n",
        "    dictionary = [extraction.lemmatize(word) for word in dictionary]\n",
        "    dictionary = ' '.join(dictionary)\n",
        "    dictionarys.append(dictionary)\n",
        "\n",
        "vector = CountVectorizer(max_features=1500, min_df=5, max_df=0.7, stop_words=stopwords.words('english'))\n",
        "X = vector.fit_transform(dictionarys).toarray()\n",
        "\n",
        "tfidfconverter = TfidfTransformer()\n",
        "X = tfidfconverter.fit_transform(X).toarray()\n",
        "\n",
        "X_train, X_test, y_train, y_test = train_test_split(X, y, test_size=0.3, shuffle=False)\n",
        "X_train, X_test, y_train, y_test = cp.array(X_train), cp.array(X_test), cp.array(y_train), cp.array(y_test)"
      ],
      "execution_count": 0,
      "outputs": []
    },
    {
      "cell_type": "markdown",
      "metadata": {
        "id": "UA0lITFIf_Ed",
        "colab_type": "text"
      },
      "source": [
        "**Main process**"
      ]
    },
    {
      "cell_type": "code",
      "metadata": {
        "id": "eTveV-V1ndlc",
        "colab_type": "code",
        "outputId": "80662513-156e-40fa-ae34-9bab23fe806d",
        "colab": {
          "base_uri": "https://localhost:8080/",
          "height": 67,
          "referenced_widgets": [
            "87f12a7724bf49a8ab557fe16e96789f",
            "2d5d1943fed344ce999264c250d8edae",
            "73e35715268b483ebafa2fe6f56d4c26",
            "d675b0fb7dfa497f9d5ba042c4321905",
            "80a486fe9ad7459b9f2a3635bc977284",
            "930dbf459806488f8570a7b643accee2",
            "b28567fcd28b4b8187ee3afa25b7047f",
            "32d647eeafa74dc79aa26e5505245221"
          ]
        }
      },
      "source": [
        "class Sequence:\n",
        "    def __init__(self, layers : list, rate, loss = 'binary'):\n",
        "        self.Layer = layers\n",
        "        self.Loss = LossSelector(loss)\n",
        "        self.Rate = rate\n",
        "\n",
        "    def predict(self, data):\n",
        "        h = data\n",
        "        for l in self.Layer:\n",
        "            h = l.predict(h)\n",
        "        return h\n",
        "\n",
        "    def forward(self, data):\n",
        "        h = data\n",
        "        for l in self.Layer:\n",
        "            h = l.forward(h)\n",
        "        return h    \n",
        "\n",
        "    def backpropagate(self, a, label):\n",
        "        sigma = self.Loss.diff(label, a)\n",
        "        sum = 0\n",
        "        for l in reversed(self.Layer):\n",
        "            sigma, a = l.backward(a, sigma, self.Rate)\n",
        "            sum += (l.Layer * l.Layer).sum()\n",
        "        return sum / (2 * a.shape[1]) * lamda\n",
        "\n",
        "    def train(self, data, label, epoch, *test):\n",
        "        train_e = []\n",
        "        train_acc = []\n",
        "        test_e = []\n",
        "        test_acc = []\n",
        "        for i in tqdm(range(epoch)):\n",
        "            h = self.forward(data)\n",
        "            if len(test) != 0 : t = self.predict(test[0])\n",
        "            r = self.backpropagate(h, label)\n",
        "            train_e.append(self.Loss.calc(label, h) + r)\n",
        "            train_acc.append(accuracy(h > 0.5, label))\n",
        "            if len(test) != 0:\n",
        "                test_e.append(self.Loss.calc(test[1], t) + r)\n",
        "                test_acc.append(accuracy(t > 0.5, test[1]))\n",
        "\n",
        "        if len(test) == 0 : return train_e, train_acc\n",
        "        return train_e, train_acc, test_e, test_acc\n",
        "\n",
        "class Linear:\n",
        "    def __init__(self, size, schedule = 'sgd', active = 'sigmoid', bias = False):\n",
        "        self.size = size\n",
        "        self.Layer = cp.random.normal(size = (size[0], size[1] + bias), scale = 4*cp.sqrt(2/(size[0] + size[1])))\n",
        "        self.a = cp.zeros(size[0])\n",
        "        self.bias = bias\n",
        "        self.activation = ActivationSelector(active)\n",
        "        self.scheduler = SchedulerSelector(schedule)\n",
        "\n",
        "    def forward(self, data):\n",
        "        self.a = generator(data, self.bias)\n",
        "        return self.activation.calc(self.Layer@self.a)\n",
        "\n",
        "    def predict(self, data):\n",
        "        return self.activation.calc(self.Layer@generator(data, self.bias))\n",
        "\n",
        "    def backward(self, a, sigma, rate):\n",
        "        sigma = sigma*self.activation.diff(a)\n",
        "        dx = sigma@self.a.transpose()/self.a.shape[1] + lamda * self.Layer / a.shape[1]\n",
        "        t = rate*self.scheduler.grad(dx)\n",
        "        self.Layer -= t\n",
        "        return ((self.Layer.transpose()@sigma)[:len(self.a)-self.bias], self.a[:len(self.a)-self.bias])\n",
        "\n",
        "def accuracy(pred, label):\n",
        "  return (pred == label).mean()\n",
        "\n",
        "def generator(data, bias):\n",
        "  return data if not bias else cp.vstack((data, cp.ones((1, data.shape[1]))))\n",
        "\n",
        "\n",
        "class Sigmoid:\n",
        "    def __init__(self):\n",
        "        pass\n",
        "\n",
        "    def calc(self, x):\n",
        "        return cp.reciprocal(1 + np.exp(-x))\n",
        "\n",
        "    def diff(self, a):\n",
        "        return a*(1 - a)\n",
        "\n",
        "class ReLU:\n",
        "    def __init__(self):\n",
        "        pass\n",
        "\n",
        "    def calc(self, x):\n",
        "        return np.maximum(-0.1*x, x)\n",
        "\n",
        "    def diff(self, x):\n",
        "        return (x > 0) - (x <= 0)*0.1\n",
        "\n",
        "def ActivationSelector(active):\n",
        "    if active == 'sigmoid': return Sigmoid()\n",
        "    if active == 'relu': return ReLU()\n",
        "    print('ActivationSelector : not found %s' % active)\n",
        "\n",
        "class BinaryLoss:\n",
        "    def __init__(self):\n",
        "        pass\n",
        "\n",
        "    def calc(self, label, pred):\n",
        "        return -((label*cp.log(pred) + (1 - label)*cp.log(1 - pred)).sum(axis=0)).mean()\n",
        "\n",
        "    def diff(self, label, pred):\n",
        "        return -label / pred + (1 - label) / (1 - pred)\n",
        "\n",
        "def LossSelector(loss):\n",
        "    if loss == 'binary': return BinaryLoss()\n",
        "    print('LossSelector : not found %s' % loss)\n",
        "\n",
        "class SGD():\n",
        "    def __init__(self):\n",
        "        pass\n",
        "\n",
        "    def grad(self, dx):\n",
        "        return dx\n",
        "\n",
        "class RMSprop():\n",
        "    beta = 0.9\n",
        "    eps = 1e-8\n",
        "    def __init__(self):\n",
        "        self.cache = None\n",
        "\n",
        "    def grad(self, dx):\n",
        "        self.cache = (dx*dx) if self.cache is None else (RMSprop.beta * self.cache + (1 - RMSprop.beta) * dx*dx)\n",
        "        return dx/(cp.sqrt(self.cache) + RMSprop.eps)\n",
        "\n",
        "def SchedulerSelector(schedule):\n",
        "    if schedule == 'sgd': return SGD()\n",
        "    if schedule == 'rmsprop': return RMSprop()\n",
        "    print('SchedulerSelector : not found %s' % schedule)\n",
        "\n",
        "Model = Sequence([Linear((300, 1500), active = 'sigmoid', bias = True, schedule = 'rmsprop'),\n",
        "                  Linear((1, 300),   active = 'sigmoid', bias = True, schedule = 'rmsprop')],\n",
        "                 0.001, 'binary')\n",
        "\n",
        "train_e, train_acc, test_e, test_acc= Model.train(X_train.T, y_train, 10000, X_test.T, y_test)\n"
      ],
      "execution_count": 4,
      "outputs": [
        {
          "output_type": "display_data",
          "data": {
            "application/vnd.jupyter.widget-view+json": {
              "model_id": "87f12a7724bf49a8ab557fe16e96789f",
              "version_minor": 0,
              "version_major": 2
            },
            "text/plain": [
              "HBox(children=(FloatProgress(value=0.0, max=10000.0), HTML(value='')))"
            ]
          },
          "metadata": {
            "tags": []
          }
        },
        {
          "output_type": "stream",
          "text": [
            "\n"
          ],
          "name": "stdout"
        }
      ]
    },
    {
      "cell_type": "markdown",
      "metadata": {
        "id": "Hk4MYThzgFKu",
        "colab_type": "text"
      },
      "source": [
        "**Plot the loss curve**"
      ]
    },
    {
      "cell_type": "code",
      "metadata": {
        "id": "LbszaQ46nq8A",
        "colab_type": "code",
        "outputId": "b8855871-1347-4685-9c4d-e02c8f7fb553",
        "colab": {
          "base_uri": "https://localhost:8080/",
          "height": 320
        }
      },
      "source": [
        "import matplotlib.pyplot as plt\n",
        "plt.figure(figsize=(7,5))\n",
        "plt.plot(range(0, len(test_e)), test_e, c = 'r')\n",
        "plt.plot(range(0, len(train_e)), train_e, c = 'b')\n",
        "plt.show()"
      ],
      "execution_count": 10,
      "outputs": [
        {
          "output_type": "display_data",
          "data": {
            "image/png": "[encoded data removed]",
            "text/plain": [
              "<Figure size 504x360 with 1 Axes>"
            ]
          },
          "metadata": {
            "tags": [],
            "needs_background": "light"
          }
        }
      ]
    },
    {
      "cell_type": "markdown",
      "metadata": {
        "id": "CPS9afsWg5Sy",
        "colab_type": "text"
      },
      "source": [
        "**Plot the accuracy curve**"
      ]
    },
    {
      "cell_type": "code",
      "metadata": {
        "id": "B-dS1Oy-n9co",
        "colab_type": "code",
        "outputId": "063763d6-9f5c-41ed-ad07-2f04ddde922e",
        "colab": {
          "base_uri": "https://localhost:8080/",
          "height": 357
        }
      },
      "source": [
        "plt.figure(figsize=(7, 5))\n",
        "plt.plot(range(0, len(test_acc)), test_acc, c = 'r')\n",
        "plt.plot(range(0, len(train_acc)), train_acc, c = 'b')\n",
        "plt.show()\n",
        "print('Train accuracy :', train_acc[-1]*100, '%')\n",
        "print('Test accuracy :', test_acc[-1]*100, '%')"
      ],
      "execution_count": 9,
      "outputs": [
        {
          "output_type": "display_data",
          "data": {
            "image/png": "[encoded data removed]",
            "text/plain": [
              "<Figure size 504x360 with 1 Axes>"
            ]
          },
          "metadata": {
            "tags": [],
            "needs_background": "light"
          }
        },
        {
          "output_type": "stream",
          "text": [
            "Train accuracy : 99.92862241256245 %\n",
            "Test accuracy : 82.19633943427621 %\n"
          ],
          "name": "stdout"
        }
      ]
    },
    {
      "cell_type": "markdown",
      "metadata": {
        "id": "ej_RPypdh06j",
        "colab_type": "text"
      },
      "source": [
        "**Training Accuracy**"
      ]
    },
    {
      "cell_type": "code",
      "metadata": {
        "id": "h6R3xwWfoBat",
        "colab_type": "code",
        "outputId": "61189e68-552e-4c58-ebe9-37a71d038bdd",
        "colab": {
          "base_uri": "https://localhost:8080/",
          "height": 256
        }
      },
      "source": [
        "from sklearn.metrics import classification_report, confusion_matrix, accuracy_score\n",
        "\n",
        "train_h = Model.predict(X_train.T)\n",
        "print('Confusuion Matrix')\n",
        "print(confusion_matrix((train_h > 0.5)[0].tolist(), y_train.tolist()))\n",
        "print(classification_report(y_train.tolist(), (train_h[0] > 0.5).tolist()))\n",
        "print('Accuracy: ', accuracy_score(y_train.tolist(), (train_h[0] > 0.5).tolist()) * 100, '%')"
      ],
      "execution_count": 8,
      "outputs": [
        {
          "output_type": "stream",
          "text": [
            "Confusuion Matrix\n",
            "[[698   0]\n",
            " [  1 702]]\n",
            "              precision    recall  f1-score   support\n",
            "\n",
            "           0       1.00      1.00      1.00       699\n",
            "           1       1.00      1.00      1.00       702\n",
            "\n",
            "    accuracy                           1.00      1401\n",
            "   macro avg       1.00      1.00      1.00      1401\n",
            "weighted avg       1.00      1.00      1.00      1401\n",
            "\n",
            "Accuracy:  99.92862241256245 %\n"
          ],
          "name": "stdout"
        }
      ]
    },
    {
      "cell_type": "markdown",
      "metadata": {
        "id": "Y8Xd4-23iA25",
        "colab_type": "text"
      },
      "source": [
        "**Testing Accuracy**"
      ]
    },
    {
      "cell_type": "code",
      "metadata": {
        "id": "LlSzrH4QoiFM",
        "colab_type": "code",
        "outputId": "1bf60f8c-550d-41b3-a33e-a732dd1df74a",
        "colab": {
          "base_uri": "https://localhost:8080/",
          "height": 251
        }
      },
      "source": [
        "test_h = Model.predict(X_test.T)\n",
        "print('Confusion Matrix')\n",
        "print(confusion_matrix((train_h > 0.5)[0].tolist(), y_train.tolist()))\n",
        "print(classification_report(y_test.tolist(), (test_h[0] > 0.5).tolist()))\n",
        "print('Accuracy: ', accuracy_score(y_test.tolist(), (test_h[0] > 0.5).tolist()) * 100, '%')"
      ],
      "execution_count": 0,
      "outputs": [
        {
          "output_type": "stream",
          "text": [
            "Confusion Matrix\n",
            "[[699   2]\n",
            " [  0 700]]\n",
            "              precision    recall  f1-score   support\n",
            "\n",
            "           0       0.82      0.83      0.82       302\n",
            "           1       0.82      0.82      0.82       299\n",
            "\n",
            "    accuracy                           0.82       601\n",
            "   macro avg       0.82      0.82      0.82       601\n",
            "weighted avg       0.82      0.82      0.82       601\n",
            "\n",
            "Accuracy:  82.19633943427621 %\n"
          ],
          "name": "stdout"
        }
      ]
    }
  ]
}