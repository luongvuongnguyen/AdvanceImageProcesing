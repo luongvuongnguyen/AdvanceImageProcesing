{
  "nbformat": 4,
  "nbformat_minor": 0,
  "metadata": {
    "colab": {
      "name": "Assignment 11.ipynb",
      "provenance": []
    },
    "kernelspec": {
      "name": "python3",
      "display_name": "Python 3"
    }
  },
  "cells": [
    {
      "cell_type": "markdown",
      "metadata": {
        "id": "CPFdkDC8_y1-",
        "colab_type": "text"
      },
      "source": [
        "**Text classification using neural networks**"
      ]
    },
    {
      "cell_type": "code",
      "metadata": {
        "id": "4SIHMmnITlmv",
        "colab_type": "code",
        "colab": {
          "base_uri": "https://localhost:8080/",
          "height": 238
        },
        "outputId": "f3c53e14-958a-4aa2-d16c-dbba6d311efb"
      },
      "source": [
        "!pip install cupy"
      ],
      "execution_count": 1,
      "outputs": [
        {
          "output_type": "stream",
          "text": [
            "Collecting cupy\n",
            "\u001b[?25l  Downloading https://files.pythonhosted.org/packages/e8/6c/8e9be391b761b0f92fa83ea654e5f6b828c1b6c52990c37231bf2dd33c58/cupy-7.5.0.tar.gz (3.7MB)\n",
            "\u001b[K     |████████████████████████████████| 3.7MB 2.7MB/s \n",
            "\u001b[?25hRequirement already satisfied: numpy>=1.9.0 in /usr/local/lib/python3.6/dist-packages (from cupy) (1.18.5)\n",
            "Requirement already satisfied: six>=1.9.0 in /usr/local/lib/python3.6/dist-packages (from cupy) (1.12.0)\n",
            "Requirement already satisfied: fastrlock>=0.3 in /usr/local/lib/python3.6/dist-packages (from cupy) (0.4)\n",
            "Building wheels for collected packages: cupy\n",
            "  Building wheel for cupy (setup.py) ... \u001b[?25l\u001b[?25hdone\n",
            "  Created wheel for cupy: filename=cupy-7.5.0-cp36-cp36m-linux_x86_64.whl size=30641754 sha256=925a8b7a90352ff10152189d6b5f903af8423ebe5cba3db393d50880a29e0c1b\n",
            "  Stored in directory: /root/.cache/pip/wheels/1a/73/d8/5525c15eecc1ad1b2d695899b7119c32f64b4da391efe98ef8\n",
            "Successfully built cupy\n",
            "Installing collected packages: cupy\n",
            "Successfully installed cupy-7.5.0\n"
          ],
          "name": "stdout"
        }
      ]
    },
    {
      "cell_type": "code",
      "metadata": {
        "id": "ViTK2rkV_vVq",
        "colab_type": "code",
        "colab": {
          "base_uri": "https://localhost:8080/",
          "height": 554
        },
        "outputId": "1e7eabb6-fa30-4295-afa1-76d08b84c57e"
      },
      "source": [
        "import numpy as np\n",
        "import re\n",
        "import nltk\n",
        "from sklearn.datasets import load_files\n",
        "nltk.download('stopwords')\n",
        "nltk.download('wordnet')\n",
        "import pickle\n",
        "from nltk.corpus import stopwords\n",
        "from nltk.stem import WordNetLemmatizer\n",
        "from sklearn.feature_extraction.text import CountVectorizer\n",
        "from sklearn.feature_extraction.text import TfidfTransformer\n",
        "from sklearn.model_selection import train_test_split\n",
        "import cupy as cp\n",
        "from tqdm.auto import tqdm\n",
        "import zipfile\n",
        "review_zip = zipfile.ZipFile('movie_review.zip')\n",
        "review_zip.extractall('') \n",
        "review_zip.close()\n",
        "\n",
        "review_data = load_files(r\"movie_review\")\n",
        "X, y = review_data.data, review_data.target\n",
        "\n",
        "documents = []\n",
        "stemmer = WordNetLemmatizer()\n",
        "for sen in range(0, len(X)):\n",
        "    # Remove all the special characters\n",
        "    document = re.sub(r'\\W', ' ', str(X[sen]))    \n",
        "    # remove all single characters\n",
        "    document = re.sub(r'\\s+[a-zA-Z]\\s+', ' ', document)    \n",
        "    # Remove single characters from the start\n",
        "    document = re.sub(r'\\^[a-zA-Z]\\s+', ' ', document)     \n",
        "    # Substituting multiple spaces with single space\n",
        "    document = re.sub(r'\\s+', ' ', document, flags=re.I)    \n",
        "    # Removing prefixed 'b'\n",
        "    document = re.sub(r'^b\\s+', '', document)    \n",
        "    # Converting to Lowercase\n",
        "    document = document.lower()    \n",
        "    # Lemmatization\n",
        "    document = document.split()\n",
        "    document = [stemmer.lemmatize(word) for word in document]\n",
        "    document = ' '.join(document)    \n",
        "    documents.append(document)\n",
        "\n",
        "vectorizer = CountVectorizer(max_features=1500, min_df=5, max_df=0.7, stop_words=stopwords.words('english'))\n",
        "X = vectorizer.fit_transform(documents).toarray()\n",
        "\n",
        "tfidfconverter = TfidfTransformer()\n",
        "X = tfidfconverter.fit_transform(X).toarray()\n",
        "\n",
        "X_train, X_test, y_train, y_test = train_test_split(X, y, test_size=0.3, shuffle=False)\n",
        "\n",
        "class Sequence:\n",
        "    def __init__(self, layers : list, rate, loss = 'binary'):\n",
        "        self.Layer = layers\n",
        "        self.Loss = LossSelector(loss)\n",
        "        self.Rate = rate\n",
        "\n",
        "    def predict(self, data):\n",
        "        h = data\n",
        "        for l in self.Layer:\n",
        "            h = l.predict(h)\n",
        "        return h\n",
        "\n",
        "    def forward(self, data):\n",
        "        h = data\n",
        "        for l in self.Layer:\n",
        "            h = l.forward(h)\n",
        "        return h    \n",
        "\n",
        "    def backpropagate(self, a, label):\n",
        "        sigma = self.Loss.diff(label, a)\n",
        "        sum = 0\n",
        "        for l in reversed(self.Layer):\n",
        "            sigma, a = l.backward(a, sigma, self.Rate)\n",
        "            sum += (l.Layer * l.Layer).sum()\n",
        "        return sum / (2 * a.shape[1]) * lamda\n",
        "\n",
        "    def train(self, data, label, epoch, *test):\n",
        "        train_e = []\n",
        "        train_acc = []\n",
        "        test_e = []\n",
        "        test_acc = []\n",
        "        for i in tqdm(range(epoch)):\n",
        "            h = self.forward(data)\n",
        "            if len(test) != 0 : t = self.predict(test[0])\n",
        "            r = self.backpropagate(h, label)\n",
        "            train_e.append(self.Loss.calc(label, h) + r)\n",
        "            train_acc.append(accuracy(h > 0.5, label))\n",
        "            if len(test) != 0:\n",
        "                test_e.append(self.Loss.calc(test[1], t) + r)\n",
        "                test_acc.append(accuracy(t > 0.5, test[1]))\n",
        "\n",
        "        if len(test) == 0 : return train_e, train_acc\n",
        "        return train_e, train_acc, test_e, test_acc\n",
        "\n",
        "class Linear:\n",
        "    def __init__(self, size, schedule = 'sgd', active = 'sigmoid', bias = False):\n",
        "        self.size = size\n",
        "        self.Layer = cp.random.normal(size = (size[0], size[1] + bias), scale = 4*cp.sqrt(2/(size[0] + size[1])))\n",
        "        self.a = cp.zeros(size[0])\n",
        "        self.bias = bias\n",
        "        self.activation = ActivationSelector(active)\n",
        "        self.scheduler = SchedulerSelector(schedule)\n",
        "\n",
        "    def forward(self, data):\n",
        "        self.a = generator(data, self.bias)\n",
        "        return self.activation.calc(self.Layer@self.a)\n",
        "\n",
        "    def predict(self, data):\n",
        "        return self.activation.calc(self.Layer@generator(data, self.bias))\n",
        "\n",
        "    def backward(self, a, sigma, rate):\n",
        "        sigma = sigma*self.activation.diff(a)\n",
        "        dx = sigma@self.a.transpose()/self.a.shape[1] + lamda * self.Layer / a.shape[1]\n",
        "        t = rate*self.scheduler.grad(dx)\n",
        "        self.Layer -= t\n",
        "        return ((self.Layer.transpose()@sigma)[:len(self.a)-self.bias], self.a[:len(self.a)-self.bias])\n",
        "\n",
        "def accuracy(pred, label):\n",
        "  return (pred == label).mean()\n",
        "\n",
        "def generator(data, bias):\n",
        "  return data if not bias else cp.vstack((data, cp.ones((1, data.shape[1]))))\n",
        "\n",
        "\n",
        "class Sigmoid:\n",
        "    def __init__(self):\n",
        "        pass\n",
        "\n",
        "    def calc(self, x):\n",
        "        return cp.reciprocal(1 + np.exp(-x))\n",
        "\n",
        "    def diff(self, a):\n",
        "        return a*(1 - a)\n",
        "\n",
        "class ReLU:\n",
        "    def __init__(self):\n",
        "        pass\n",
        "\n",
        "    def calc(self, x):\n",
        "        return np.maximum(-0.1*x, x)\n",
        "\n",
        "    def diff(self, x):\n",
        "        return (x > 0) - (x <= 0)*0.1\n",
        "\n",
        "def ActivationSelector(active):\n",
        "    if active == 'sigmoid': return Sigmoid()\n",
        "    if active == 'relu': return ReLU()\n",
        "    print('ActivationSelector : not found %s' % active)\n",
        "\n",
        "class BinaryLoss:\n",
        "    def __init__(self):\n",
        "        pass\n",
        "\n",
        "    def calc(self, label, pred):\n",
        "        return -((label*cp.log(pred) + (1 - label)*cp.log(1 - pred)).sum(axis=0)).mean()\n",
        "\n",
        "    def diff(self, label, pred):\n",
        "        return -label / pred + (1 - label) / (1 - pred)\n",
        "\n",
        "def LossSelector(loss):\n",
        "    if loss == 'binary': return BinaryLoss()    \n",
        "\n",
        "class SGD():\n",
        "    def __init__(self):\n",
        "        pass\n",
        "\n",
        "    def grad(self, dx):\n",
        "        return dx\n",
        "\n",
        "class RMSprop():\n",
        "    beta = 0.9\n",
        "    eps = 1e-8\n",
        "    def __init__(self):\n",
        "        self.cache = None\n",
        "\n",
        "    def grad(self, dx):\n",
        "        self.cache = (dx*dx) if self.cache is None else (RMSprop.beta * self.cache + (1 - RMSprop.beta) * dx*dx)\n",
        "        return dx/(cp.sqrt(self.cache) + RMSprop.eps)\n",
        "\n",
        "def SchedulerSelector(schedule):\n",
        "    if schedule == 'sgd': return SGD()\n",
        "    if schedule == 'rmsprop': return RMSprop()    \n",
        "\n",
        "Model = Sequence([Linear((300, 1500), active = 'sigmoid', bias = True, schedule = 'rmsprop'),\n",
        "                  Linear((1, 300),   active = 'sigmoid', bias = True, schedule = 'rmsprop')],\n",
        "                 0.001, 'binary')\n",
        "\n",
        "train_e, train_acc, test_e, test_acc= Model.train(X_train.T, y_train, 10000, X_test.T, y_test)\n"
      ],
      "execution_count": 2,
      "outputs": [
        {
          "output_type": "stream",
          "text": [
            "[nltk_data] Downloading package stopwords to /root/nltk_data...\n",
            "[nltk_data]   Unzipping corpora/stopwords.zip.\n",
            "[nltk_data] Downloading package wordnet to /root/nltk_data...\n",
            "[nltk_data]   Unzipping corpora/wordnet.zip.\n"
          ],
          "name": "stdout"
        },
        {
          "output_type": "error",
          "ename": "CUDARuntimeError",
          "evalue": "ignored",
          "traceback": [
            "\u001b[0;31m---------------------------------------------------------------------------\u001b[0m",
            "\u001b[0;31mCUDARuntimeError\u001b[0m                          Traceback (most recent call last)",
            "\u001b[0;32m<ipython-input-2-45ea310f2d21>\u001b[0m in \u001b[0;36m<module>\u001b[0;34m()\u001b[0m\n\u001b[1;32m    194\u001b[0m     \u001b[0mprint\u001b[0m\u001b[0;34m(\u001b[0m\u001b[0;34m'SchedulerSelector : not found %s'\u001b[0m \u001b[0;34m%\u001b[0m \u001b[0mschedule\u001b[0m\u001b[0;34m)\u001b[0m\u001b[0;34m\u001b[0m\u001b[0;34m\u001b[0m\u001b[0m\n\u001b[1;32m    195\u001b[0m \u001b[0;34m\u001b[0m\u001b[0m\n\u001b[0;32m--> 196\u001b[0;31m Model = Sequence([Linear((300, 1500), active = 'sigmoid', bias = True, schedule = 'rmsprop'),\n\u001b[0m\u001b[1;32m    197\u001b[0m                   Linear((1, 300),   active = 'sigmoid', bias = True, schedule = 'rmsprop')],\n\u001b[1;32m    198\u001b[0m                  0.001, 'binary')\n",
            "\u001b[0;32m<ipython-input-2-45ea310f2d21>\u001b[0m in \u001b[0;36m__init__\u001b[0;34m(self, size, schedule, active, bias)\u001b[0m\n\u001b[1;32m    106\u001b[0m     \u001b[0;32mdef\u001b[0m \u001b[0m__init__\u001b[0m\u001b[0;34m(\u001b[0m\u001b[0mself\u001b[0m\u001b[0;34m,\u001b[0m \u001b[0msize\u001b[0m\u001b[0;34m,\u001b[0m \u001b[0mschedule\u001b[0m \u001b[0;34m=\u001b[0m \u001b[0;34m'sgd'\u001b[0m\u001b[0;34m,\u001b[0m \u001b[0mactive\u001b[0m \u001b[0;34m=\u001b[0m \u001b[0;34m'sigmoid'\u001b[0m\u001b[0;34m,\u001b[0m \u001b[0mbias\u001b[0m \u001b[0;34m=\u001b[0m \u001b[0;32mFalse\u001b[0m\u001b[0;34m)\u001b[0m\u001b[0;34m:\u001b[0m\u001b[0;34m\u001b[0m\u001b[0;34m\u001b[0m\u001b[0m\n\u001b[1;32m    107\u001b[0m         \u001b[0mself\u001b[0m\u001b[0;34m.\u001b[0m\u001b[0msize\u001b[0m \u001b[0;34m=\u001b[0m \u001b[0msize\u001b[0m\u001b[0;34m\u001b[0m\u001b[0;34m\u001b[0m\u001b[0m\n\u001b[0;32m--> 108\u001b[0;31m         \u001b[0mself\u001b[0m\u001b[0;34m.\u001b[0m\u001b[0mLayer\u001b[0m \u001b[0;34m=\u001b[0m \u001b[0mcp\u001b[0m\u001b[0;34m.\u001b[0m\u001b[0mrandom\u001b[0m\u001b[0;34m.\u001b[0m\u001b[0mnormal\u001b[0m\u001b[0;34m(\u001b[0m\u001b[0msize\u001b[0m \u001b[0;34m=\u001b[0m \u001b[0;34m(\u001b[0m\u001b[0msize\u001b[0m\u001b[0;34m[\u001b[0m\u001b[0;36m0\u001b[0m\u001b[0;34m]\u001b[0m\u001b[0;34m,\u001b[0m \u001b[0msize\u001b[0m\u001b[0;34m[\u001b[0m\u001b[0;36m1\u001b[0m\u001b[0;34m]\u001b[0m \u001b[0;34m+\u001b[0m \u001b[0mbias\u001b[0m\u001b[0;34m)\u001b[0m\u001b[0;34m,\u001b[0m \u001b[0mscale\u001b[0m \u001b[0;34m=\u001b[0m \u001b[0;36m4\u001b[0m\u001b[0;34m*\u001b[0m\u001b[0mcp\u001b[0m\u001b[0;34m.\u001b[0m\u001b[0msqrt\u001b[0m\u001b[0;34m(\u001b[0m\u001b[0;36m2\u001b[0m\u001b[0;34m/\u001b[0m\u001b[0;34m(\u001b[0m\u001b[0msize\u001b[0m\u001b[0;34m[\u001b[0m\u001b[0;36m0\u001b[0m\u001b[0;34m]\u001b[0m \u001b[0;34m+\u001b[0m \u001b[0msize\u001b[0m\u001b[0;34m[\u001b[0m\u001b[0;36m1\u001b[0m\u001b[0;34m]\u001b[0m\u001b[0;34m)\u001b[0m\u001b[0;34m)\u001b[0m\u001b[0;34m)\u001b[0m\u001b[0;34m\u001b[0m\u001b[0;34m\u001b[0m\u001b[0m\n\u001b[0m\u001b[1;32m    109\u001b[0m         \u001b[0mself\u001b[0m\u001b[0;34m.\u001b[0m\u001b[0ma\u001b[0m \u001b[0;34m=\u001b[0m \u001b[0mcp\u001b[0m\u001b[0;34m.\u001b[0m\u001b[0mzeros\u001b[0m\u001b[0;34m(\u001b[0m\u001b[0msize\u001b[0m\u001b[0;34m[\u001b[0m\u001b[0;36m0\u001b[0m\u001b[0;34m]\u001b[0m\u001b[0;34m)\u001b[0m\u001b[0;34m\u001b[0m\u001b[0;34m\u001b[0m\u001b[0m\n\u001b[1;32m    110\u001b[0m         \u001b[0mself\u001b[0m\u001b[0;34m.\u001b[0m\u001b[0mbias\u001b[0m \u001b[0;34m=\u001b[0m \u001b[0mbias\u001b[0m\u001b[0;34m\u001b[0m\u001b[0;34m\u001b[0m\u001b[0m\n",
            "\u001b[0;32mcupy/core/_kernel.pyx\u001b[0m in \u001b[0;36mcupy.core._kernel.ufunc.__call__\u001b[0;34m()\u001b[0m\n",
            "\u001b[0;32mcupy/cuda/device.pyx\u001b[0m in \u001b[0;36mcupy.cuda.device.get_device_id\u001b[0;34m()\u001b[0m\n",
            "\u001b[0;32mcupy/cuda/runtime.pyx\u001b[0m in \u001b[0;36mcupy.cuda.runtime.getDevice\u001b[0;34m()\u001b[0m\n",
            "\u001b[0;32mcupy/cuda/runtime.pyx\u001b[0m in \u001b[0;36mcupy.cuda.runtime.check_status\u001b[0;34m()\u001b[0m\n",
            "\u001b[0;31mCUDARuntimeError\u001b[0m: cudaErrorNoDevice: no CUDA-capable device is detected"
          ]
        }
      ]
    },
    {
      "cell_type": "code",
      "metadata": {
        "id": "0_QesGz1Sitd",
        "colab_type": "code",
        "colab": {
          "base_uri": "https://localhost:8080/",
          "height": 248
        },
        "outputId": "ced7e53a-09c9-4742-bbb9-fec45ea44a37"
      },
      "source": [
        "import matplotlib.pyplot as plt\n",
        "plt.figure(figsize=(10,10))\n",
        "plt.plot(range(0, len(test_e)), test_e, c = 'r')\n",
        "plt.plot(range(0, len(train_e)), train_e, c = 'b')\n",
        "plt.show()"
      ],
      "execution_count": 5,
      "outputs": [
        {
          "output_type": "error",
          "ename": "NameError",
          "evalue": "ignored",
          "traceback": [
            "\u001b[0;31m---------------------------------------------------------------------------\u001b[0m",
            "\u001b[0;31mNameError\u001b[0m                                 Traceback (most recent call last)",
            "\u001b[0;32m<ipython-input-5-7533b030b1b1>\u001b[0m in \u001b[0;36m<module>\u001b[0;34m()\u001b[0m\n\u001b[1;32m      1\u001b[0m \u001b[0;32mimport\u001b[0m \u001b[0mmatplotlib\u001b[0m\u001b[0;34m.\u001b[0m\u001b[0mpyplot\u001b[0m \u001b[0;32mas\u001b[0m \u001b[0mplt\u001b[0m\u001b[0;34m\u001b[0m\u001b[0;34m\u001b[0m\u001b[0m\n\u001b[1;32m      2\u001b[0m \u001b[0mplt\u001b[0m\u001b[0;34m.\u001b[0m\u001b[0mfigure\u001b[0m\u001b[0;34m(\u001b[0m\u001b[0mfigsize\u001b[0m\u001b[0;34m=\u001b[0m\u001b[0;34m(\u001b[0m\u001b[0;36m10\u001b[0m\u001b[0;34m,\u001b[0m\u001b[0;36m10\u001b[0m\u001b[0;34m)\u001b[0m\u001b[0;34m)\u001b[0m\u001b[0;34m\u001b[0m\u001b[0;34m\u001b[0m\u001b[0m\n\u001b[0;32m----> 3\u001b[0;31m \u001b[0mplt\u001b[0m\u001b[0;34m.\u001b[0m\u001b[0mplot\u001b[0m\u001b[0;34m(\u001b[0m\u001b[0mrange\u001b[0m\u001b[0;34m(\u001b[0m\u001b[0;36m0\u001b[0m\u001b[0;34m,\u001b[0m \u001b[0mlen\u001b[0m\u001b[0;34m(\u001b[0m\u001b[0mtest_e\u001b[0m\u001b[0;34m)\u001b[0m\u001b[0;34m)\u001b[0m\u001b[0;34m,\u001b[0m \u001b[0mtest_e\u001b[0m\u001b[0;34m,\u001b[0m \u001b[0mc\u001b[0m \u001b[0;34m=\u001b[0m \u001b[0;34m'r'\u001b[0m\u001b[0;34m)\u001b[0m\u001b[0;34m\u001b[0m\u001b[0;34m\u001b[0m\u001b[0m\n\u001b[0m\u001b[1;32m      4\u001b[0m \u001b[0mplt\u001b[0m\u001b[0;34m.\u001b[0m\u001b[0mplot\u001b[0m\u001b[0;34m(\u001b[0m\u001b[0mrange\u001b[0m\u001b[0;34m(\u001b[0m\u001b[0;36m0\u001b[0m\u001b[0;34m,\u001b[0m \u001b[0mlen\u001b[0m\u001b[0;34m(\u001b[0m\u001b[0mtrain_e\u001b[0m\u001b[0;34m)\u001b[0m\u001b[0;34m)\u001b[0m\u001b[0;34m,\u001b[0m \u001b[0mtrain_e\u001b[0m\u001b[0;34m,\u001b[0m \u001b[0mc\u001b[0m \u001b[0;34m=\u001b[0m \u001b[0;34m'b'\u001b[0m\u001b[0;34m)\u001b[0m\u001b[0;34m\u001b[0m\u001b[0;34m\u001b[0m\u001b[0m\n\u001b[1;32m      5\u001b[0m \u001b[0mplt\u001b[0m\u001b[0;34m.\u001b[0m\u001b[0mshow\u001b[0m\u001b[0;34m(\u001b[0m\u001b[0;34m)\u001b[0m\u001b[0;34m\u001b[0m\u001b[0;34m\u001b[0m\u001b[0m\n",
            "\u001b[0;31mNameError\u001b[0m: name 'test_e' is not defined"
          ]
        },
        {
          "output_type": "display_data",
          "data": {
            "text/plain": [
              "<Figure size 720x720 with 0 Axes>"
            ]
          },
          "metadata": {
            "tags": []
          }
        }
      ]
    }
  ]
}