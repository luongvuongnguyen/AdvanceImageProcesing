{
  "nbformat": 4,
  "nbformat_minor": 0,
  "metadata": {
    "colab": {
      "name": "Assignment 10.ipynb",
      "provenance": [],
      "collapsed_sections": []
    },
    "kernelspec": {
      "name": "python3",
      "display_name": "Python 3"
    }
  },
  "cells": [
    {
      "cell_type": "code",
      "metadata": {
        "id": "vgrhoMEuTI1T",
        "colab_type": "code",
        "colab": {}
      },
      "source": [
        "import matplotlib.pyplot as plt\n",
        "import numpy as np\n",
        "\n",
        "\"\"\"# Neural Network Model\"\"\"\n",
        "\n",
        "input_nodes     = 784\n",
        "hidden1_nodes   = 196\n",
        "hidden2_nodes   = 49\n",
        "output_nodes    = 10\n",
        "learning_rate   = 0.1\n",
        "decay           = 0.8\n",
        "\n",
        "def sigmoid(z):\n",
        "  return 1 / ( 1 + np.exp(-z))\n",
        "\n",
        "class NeuralNetwork:\n",
        "  def __init__(self):\n",
        "    self.lr = learning_rate\n",
        "    self.decay = decay\n",
        "    self.w1 = np.random.randn(input_nodes, hidden1_nodes)\n",
        "    self.b1 = np.zeros((1, self.w1.shape[1]))  \n",
        "    self.w2 = np.random.randn(self.w1.shape[1], hidden2_nodes)\n",
        "    self.b2 = np.zeros((1, self.w2.shape[1]))  \n",
        "    self.w3 = np.random.randn(self.w2.shape[1], output_nodes)\n",
        "    self.b3 = np.zeros((1, self.w3.shape[1]))\n",
        "    self.n  = ((self.w1.shape[0] * self.w1.shape[1]) + \n",
        "               (self.w2.shape[0] * self.w2.shape[1]) + \n",
        "               (self.w3.shape[0] * self.w3.shape[1]))\n",
        "\n",
        "  def feedforward(self):\n",
        "    z1 = np.dot(self.x, self.w1) + self.b1\n",
        "    self.a1 = sigmoid(z1)\n",
        "    z2 = np.dot(self.a1, self.w2) + self.b2\n",
        "    self.a2 = sigmoid(z2)\n",
        "    z3 = np.dot(self.a2, self.w3) + self.b3\n",
        "    self.a3 = sigmoid(z3)      \n",
        "\n",
        "  # def compute_cost(self, y_pred, y):\n",
        "  #   m = y.shape[1]    \n",
        "  #   cost = np.mean(np.sum(-y*np.log(y_pred), axis=1))\n",
        "  #   return cost\n",
        "  \n",
        "  def compute_cost(self, l, h, m):\n",
        "    J = np.sum(np.multiply(-l, np.log(h)) - np.multiply((1-h), np.log(1-h))) / m\n",
        "    J += (self.decay / (2*self.n)) * ((np.sum(np.square(self.w1))) + \n",
        "                                      (np.sum(np.square(self.w2))) + \n",
        "                                      (np.sum(np.square(self.w3))))\n",
        "    return J\n",
        "\n",
        "  def backprop(self):        \n",
        "    output_errors = self.y - self.a3        \n",
        "    a3_delta = output_errors * (self.a3 * (1.0 - self.a3))       \n",
        "    z2_delta = np.dot(output_errors, self.w3.T)\n",
        "    a2_delta = z2_delta * (self.a2 * (1.0 - self.a2))       \n",
        "    z1_delta = np.dot(z2_delta, self.w2.T)\n",
        "    a1_delta = z1_delta * (self.a1 * (1.0 - self.a1))\n",
        "\n",
        "    self.w3 += (self.lr * np.dot(self.a2.T, a3_delta) + \n",
        "                ((self.decay / self.n) * self.w3))\n",
        "    self.b3 += self.lr * np.sum(a3_delta, axis=0, keepdims=True)       \n",
        "\n",
        "    self.w2 += (self.lr * np.dot(self.a1.T, a2_delta) + \n",
        "                ((self.decay / self.n) * self.w2))\n",
        "    self.b2 += self.lr * np.sum(a2_delta, axis=0, keepdims=True)  \n",
        "\n",
        "    self.w1 += (self.lr * np.dot(self.x.T, a1_delta) + \n",
        "                ((self.decay / self.n) * self.w1))\n",
        "    self.b1 += self.lr * np.sum(a1_delta, axis=0, keepdims=True)    \n",
        "    \n",
        "  def train(self, x, y):\n",
        "    self.x = np.array(x, ndmin=2)\n",
        "    self.y = np.array(y, ndmin=2)\n",
        "    self.feedforward()\n",
        "    self.backprop()\n",
        "\n",
        "  def predict(self, data):\n",
        "    self.x = np.array(data, ndmin=2)\n",
        "    self.feedforward()\n",
        "    return self.a3\n",
        "\n",
        "  def evaluate(self, x, y):\n",
        "    corrects, wrongs = 0, 0\n",
        "    for i in range(len(x)):\n",
        "      res = self.predict(x[i])\n",
        "      res_max = res.argmax()\n",
        "      if res_max == y[i]:\n",
        "        corrects += 1        \n",
        "      else:\n",
        "        wrongs += 1        \n",
        "    return corrects, wrongs\n",
        "\n",
        "\"\"\"# Input Data\"\"\"\n",
        "\n",
        "file_data   = \"mnist.csv\"\n",
        "handle_file = open(file_data, \"r\")\n",
        "data        = handle_file.readlines()\n",
        "handle_file.close()\n",
        "\n",
        "size_row    = 28    # height of the image\n",
        "size_col    = 28    # width of the image\n",
        "\n",
        "num_image   = len(data)\n",
        "count       = 0     # count for the number of images\n",
        "\n",
        "#\n",
        "# make a matrix each column of which represents an images in a vector form \n",
        "#\n",
        "list_image  = np.empty((size_row * size_col, num_image), dtype=float)\n",
        "list_label  = np.empty(num_image, dtype=int)\n",
        "\n",
        "# parameters for get ave images\n",
        "label_counter = np.zeros(10)\n",
        "vector        = np.zeros((10, size_row * size_col))\n",
        "\n",
        "for line in data:\n",
        "  line_data             = line.split(',')\n",
        "  label                 = line_data[0]\n",
        "  im_vector             = np.asfarray(line_data[1:])    \n",
        "  list_label[count]     = label\n",
        "  list_image[:, count]  = im_vector\n",
        "  count += 1\n",
        "\n",
        "  label_counter[int(label)]  += 1\n",
        "  vector[int(label)]         += im_vector\n",
        "\n",
        "\n",
        "# Devide testing and training sets\n",
        "train_size  = 1000\n",
        "test_size   = 9000\n",
        "fac         = 0.99 / 255\n",
        "\n",
        "NN                = NeuralNetwork()\n",
        "epochs            = 20\n",
        "costs_train       = []\n",
        "costs_test        = []\n",
        "accuracys_train   = []\n",
        "accuracys_test    = []\n",
        "\n",
        "\n",
        "train_imgs = np.empty((train_size, size_row * size_col), dtype=float)\n",
        "test_imgs = np.empty((test_size, size_row * size_col), dtype=float)\n",
        "train_labels = np.empty(train_size, dtype=int)\n",
        "test_labels = np.empty(test_size, dtype=int)\n",
        "for i in range(num_image):\n",
        "  if i < train_size:\n",
        "    train_labels[i] = list_label[i]\n",
        "    train_imgs[i]   = list_image[:, i]\n",
        "  else:\n",
        "    test_labels[i-train_size] = list_label[i]\n",
        "    test_imgs[i-train_size]   = list_image[:, i]\n",
        "\n",
        "train_imgs    = np.asfarray(train_imgs) * fac + 0.01\n",
        "test_imgs     = np.asfarray(test_imgs) * fac + 0.01\n",
        "train_labels  = np.asfarray(train_labels)\n",
        "test_labels    = np.asfarray(test_labels)\n",
        "\n",
        "train_targets         = np.array(train_labels).astype(np.int)\n",
        "train_labels_one_hot  = np.eye(np.max(train_targets) + 1)[train_targets]\n",
        "test_targets          = np.array(test_labels).astype(np.int)\n",
        "test_labels_one_hot   = np.eye(np.max(test_targets) + 1)[test_targets]\n",
        "\n",
        "train_labels_one_hot[train_labels_one_hot==0] = 0.01\n",
        "train_labels_one_hot[train_labels_one_hot==1] = 0.99\n",
        "test_labels_one_hot[test_labels_one_hot==0]   = 0.01\n",
        "test_labels_one_hot[test_labels_one_hot==1]   = 0.99\n",
        "\n",
        "for epoch in range(epochs):  \n",
        "  for i in range(len(train_imgs)):\n",
        "    NN.train(train_imgs[i], train_labels_one_hot[i])  \n",
        "  \n",
        "  corrects, wrongs = NN.evaluate(train_imgs, train_labels)  \n",
        "  accuracys_train.append(corrects / ( corrects + wrongs))\n",
        "  costs_train.append(NN.compute_cost(train_labels_one_hot, \n",
        "                                     NN.predict(train_imgs), \n",
        "                                     train_size))  \n",
        "\n",
        "  corrects, wrongs = NN.evaluate(test_imgs, test_labels)  \n",
        "  accuracys_test.append(corrects / ( corrects + wrongs))\n",
        "  costs_test.append(NN.compute_cost(test_labels_one_hot, \n",
        "                                    NN.predict(test_imgs), \n",
        "                                    test_size))\n",
        "\n",
        "# Get correct and wrong classified testing images\n",
        "test_correct = []\n",
        "img_correct = []\n",
        "test_wrong = []\n",
        "img_wrong = []\n",
        "for i in range(len(test_imgs)):\n",
        "  res = NN.predict(test_imgs[i])\n",
        "  res_max = res.argmax()\n",
        "  if res_max == test_labels[i]:\n",
        "    test_correct.append(res_max)\n",
        "    img_correct.append(i)\n",
        "  else:\n",
        "    test_wrong.append(res_max)\n",
        "    img_wrong.append(i)"
      ],
      "execution_count": 0,
      "outputs": []
    },
    {
      "cell_type": "markdown",
      "metadata": {
        "id": "vIWbqVzCnrP5",
        "colab_type": "text"
      },
      "source": [
        "**Plot the loss curve**"
      ]
    },
    {
      "cell_type": "code",
      "metadata": {
        "id": "NxUqFM03nvUs",
        "colab_type": "code",
        "colab": {
          "base_uri": "https://localhost:8080/",
          "height": 295
        },
        "outputId": "4f5cd96b-dbfc-41e3-ada8-172a0b9f8247"
      },
      "source": [
        "# Plot the loss curve\n",
        "plt.title('Loss curve')\n",
        "plt.plot(costs_train, c='b', label='training')\n",
        "plt.plot(costs_test, c='r', label='testing')\n",
        "plt.xlabel(\"Interation\")\n",
        "plt.ylabel(\"Cost\")\n",
        "plt.legend(loc='best')\n",
        "plt.show()"
      ],
      "execution_count": 3,
      "outputs": [
        {
          "output_type": "display_data",
          "data": {
            "image/png": "[encoded data removed]",
            "text/plain": [
              "<Figure size 432x288 with 1 Axes>"
            ]
          },
          "metadata": {
            "tags": [],
            "needs_background": "light"
          }
        }
      ]
    },
    {
      "cell_type": "markdown",
      "metadata": {
        "id": "VoF7Ci8ln3ud",
        "colab_type": "text"
      },
      "source": [
        "**Plot the accuracy curve**"
      ]
    },
    {
      "cell_type": "code",
      "metadata": {
        "id": "XbxjEGL4n9Hk",
        "colab_type": "code",
        "colab": {
          "base_uri": "https://localhost:8080/",
          "height": 295
        },
        "outputId": "bde146e3-f004-48be-8a51-5577de0bec48"
      },
      "source": [
        "# Plot the accuracy curve\n",
        "plt.title('Accuracy curve')\n",
        "plt.plot(accuracys_train, c='b', label='training')\n",
        "plt.plot(accuracys_test, c='r', label='testing')\n",
        "plt.xlabel(\"Interation\")\n",
        "plt.ylabel(\"Accuracy\")\n",
        "plt.legend(loc='best')\n",
        "plt.show()"
      ],
      "execution_count": 4,
      "outputs": [
        {
          "output_type": "display_data",
          "data": {
            "image/png": "[encoded data removed]",
            "text/plain": [
              "<Figure size 432x288 with 1 Axes>"
            ]
          },
          "metadata": {
            "tags": [],
            "needs_background": "light"
          }
        }
      ]
    },
    {
      "cell_type": "markdown",
      "metadata": {
        "id": "0EQ7thW-n-6A",
        "colab_type": "text"
      },
      "source": [
        "**Plot final accuracy**\n"
      ]
    },
    {
      "cell_type": "code",
      "metadata": {
        "id": "cLsiTOYgoDWp",
        "colab_type": "code",
        "colab": {
          "base_uri": "https://localhost:8080/",
          "height": 51
        },
        "outputId": "864b7d98-d992-4200-d230-bdbba42cb593"
      },
      "source": [
        "# Print final accuracy\n",
        "print('Final training accuracy\\t: ', \n",
        "      round(accuracys_train[epochs-1]*100, 2), '%')\n",
        "print('Final testing accuracy\\t: ', \n",
        "      round(accuracys_test[epochs-1]*100, 2), '%')"
      ],
      "execution_count": 5,
      "outputs": [
        {
          "output_type": "stream",
          "text": [
            "Final training accuracy\t:  99.8 %\n",
            "Final testing accuracy\t:  86.39 %\n"
          ],
          "name": "stdout"
        }
      ]
    },
    {
      "cell_type": "markdown",
      "metadata": {
        "id": "87hmSMOJoGFx",
        "colab_type": "text"
      },
      "source": [
        "**Plot the classification example**"
      ]
    },
    {
      "cell_type": "code",
      "metadata": {
        "id": "rX6LVJN0oHKs",
        "colab_type": "code",
        "colab": {
          "base_uri": "https://localhost:8080/",
          "height": 577
        },
        "outputId": "72b564e1-f17d-4e17-c27e-e1029faad370"
      },
      "source": [
        "print('10 correctly classified testing images with their labels at the title')\n",
        "print('-'*80)\n",
        "print('10 correctly classified testing images')\n",
        "fig = plt.figure(figsize=(8, 4))\n",
        "for i in range(10):\n",
        "  label = test_correct[i]\n",
        "  plt.subplot(2, 5, i+1)  \n",
        "  plt.title(label)\n",
        "  plt.imshow(test_imgs[img_correct[i]].reshape((size_row, size_col)), \n",
        "             cmap='Greys', interpolation='None')\n",
        "  frame   = plt.gca()\n",
        "  frame.axes.get_xaxis().set_visible(False)\n",
        "  frame.axes.get_yaxis().set_visible(False)\n",
        "plt.show()\n",
        "print('')\n",
        "print('10 misclassified testing images with their misclassified labels at the title')\n",
        "print('-'*80)\n",
        "fig = plt.figure(figsize=(8, 4))\n",
        "for i in range(10):  \n",
        "  label = test_wrong[i]\n",
        "  plt.subplot(2, 5, i+1)  \n",
        "  plt.title(label)\n",
        "  plt.imshow(test_imgs[img_wrong[i]].reshape((size_row, size_col)), \n",
        "             cmap='Greys', interpolation='None')\n",
        "  frame   = plt.gca()\n",
        "  frame.axes.get_xaxis().set_visible(False)\n",
        "  frame.axes.get_yaxis().set_visible(False)\n",
        "plt.show()"
      ],
      "execution_count": 6,
      "outputs": [
        {
          "output_type": "stream",
          "text": [
            "10 correctly classified testing images with their labels at the title\n",
            "--------------------------------------------------------------------------------\n",
            "10 correctly classified testing images\n"
          ],
          "name": "stdout"
        },
        {
          "output_type": "display_data",
          "data": {
            "image/png": "[encoded data removed]",
            "text/plain": [
              "<Figure size 576x288 with 10 Axes>"
            ]
          },
          "metadata": {
            "tags": [],
            "needs_background": "light"
          }
        },
        {
          "output_type": "stream",
          "text": [
            "\n",
            "10 misclassified testing images with their misclassified labels at the title\n",
            "--------------------------------------------------------------------------------\n"
          ],
          "name": "stdout"
        },
        {
          "output_type": "display_data",
          "data": {
            "image/png": "[encoded data removed]",
            "text/plain": [
              "<Figure size 576x288 with 10 Axes>"
            ]
          },
          "metadata": {
            "tags": [],
            "needs_background": "light"
          }
        }
      ]
    }
  ]
}