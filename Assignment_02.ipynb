{
  "nbformat": 4,
  "nbformat_minor": 0,
  "metadata": {
    "colab": {
      "name": "Assignment_02.ipynb",
      "provenance": [],
      "toc_visible": true
    },
    "kernelspec": {
      "name": "python3",
      "display_name": "Python 3"
    }
  },
  "cells": [
    {
      "cell_type": "markdown",
      "metadata": {
        "id": "QvPwzO1xM6qP",
        "colab_type": "text"
      },
      "source": [
        "# Input Result"
      ]
    },
    {
      "cell_type": "code",
      "metadata": {
        "id": "G2C6OBP4GjhJ",
        "colab_type": "code",
        "outputId": "7e4f0a98-5c01-4ee6-c8e5-e34c221190ee",
        "colab": {
          "base_uri": "https://localhost:8080/",
          "height": 265
        }
      },
      "source": [
        "import numpy as np\n",
        "import matplotlib.pyplot as plt\n",
        "\n",
        "# Generate a random x\n",
        "x = np.random.normal(0, 5, 100)\n",
        "\n",
        "# Get y: add a standard deviation to get a more realistic data\n",
        "y = 5 * (x + np.random.normal(0, 2, 100)) + 6 \n",
        "y_real = 5 * x + 6\n",
        "\n",
        "#Print out the plot\n",
        "plt.scatter(x, y, color='black')\n",
        "plt.plot(x, y_real, color='blue')\n",
        "plt.show()"
      ],
      "execution_count": 30,
      "outputs": [
        {
          "output_type": "display_data",
          "data": {
            "image/png": "[encoded data removed]",
            "text/plain": [
              "<Figure size 432x288 with 1 Axes>"
            ]
          },
          "metadata": {
            "tags": []
          }
        }
      ]
    },
    {
      "cell_type": "markdown",
      "metadata": {
        "id": "zSJnzWMz0bSU",
        "colab_type": "text"
      },
      "source": [
        "# Output Result"
      ]
    },
    {
      "cell_type": "code",
      "metadata": {
        "id": "3SZw0PD0xKr5",
        "colab_type": "code",
        "outputId": "443fc66d-1cc9-4c13-bd4a-952eb1448463",
        "colab": {
          "base_uri": "https://localhost:8080/",
          "height": 531
        }
      },
      "source": [
        "import torch\n",
        "import torch.nn as nn\n",
        "\n",
        "x = x.reshape(-1, 1)\n",
        "y = y.reshape(-1, 1)\n",
        "xp = torch.from_numpy(x).float()\n",
        "yp = torch.from_numpy(y).float()\n",
        "\n",
        "#Create model class\n",
        "class linearRegression(torch.nn.Module):\n",
        "    def __init__(self, inputSize, outputSize):\n",
        "        super(linearRegression, self).__init__()\n",
        "        self.linear = torch.nn.Linear(inputSize, outputSize)\n",
        "\n",
        "    def forward(self, x):\n",
        "        out = self.linear(x)\n",
        "        return out\n",
        "inputDim = 1        # takes variable 'x' \n",
        "outputDim = 1       # takes variable 'y'\n",
        "learningRate = 0.04 \n",
        "epochs = 150\n",
        "\n",
        "model = linearRegression(inputDim, outputDim)\n",
        "\n",
        "#Objective function\n",
        "criterion = torch.nn.MSELoss() \n",
        "optimizer = torch.optim.SGD(model.parameters(), lr=learningRate)\n",
        "\n",
        "#Traning phase\n",
        "losses = []\n",
        "final_loss= 0\n",
        "theta0 = []\n",
        "theta1= []\n",
        "for epoch in range(epochs):\n",
        "    # model parameter\n",
        "    for i, p in enumerate(model.parameters()):\n",
        "      if p.requires_grad: \n",
        "        if i == 0:\n",
        "          theta0.append(p.data)          \n",
        "        else:\n",
        "          theta1.append(p.data)         \n",
        "\n",
        "    # get output from the model, given the inputs\n",
        "    y_pred = model(xp)\n",
        "\n",
        "    # get loss for the predicted output\n",
        "    loss = criterion(y_pred, yp)\n",
        "    \n",
        "    losses.append(loss.item())\n",
        "    \n",
        "    # Clear gradient buffers\n",
        "    optimizer.zero_grad()\n",
        "\n",
        "    # get gradients w.r.t to parameters\n",
        "    loss.backward()\n",
        "    \n",
        "    final_loss = loss.item()\n",
        "\n",
        "    # update parameters\n",
        "    optimizer.step()\n",
        "\n",
        "#Prediction\n",
        "y_pred = model(xp).float()\n",
        "\n",
        "#Plotting energy values\n",
        "plt.scatter(x, y, color='black')\n",
        "plt.plot(xp,y_pred.detach(),color='red')\n",
        "plt.show()\n",
        "\n",
        "#Plotting theta0\n",
        "plt.plot(theta0)\n",
        "\n",
        "#Plotting theta1\n",
        "plt.plot(theta1)\n",
        "\n",
        "\n"
      ],
      "execution_count": 40,
      "outputs": [
        {
          "output_type": "display_data",
          "data": {
            "image/png": "[encoded data removed]",
            "text/plain": [
              "<Figure size 432x288 with 1 Axes>"
            ]
          },
          "metadata": {
            "tags": []
          }
        },
        {
          "output_type": "execute_result",
          "data": {
            "text/plain": [
              "[<matplotlib.lines.Line2D at 0x7f82a5033390>]"
            ]
          },
          "metadata": {
            "tags": []
          },
          "execution_count": 40
        },
        {
          "output_type": "display_data",
          "data": {
            "image/png": "[encoded data removed]",
            "text/plain": [
              "<Figure size 432x288 with 1 Axes>"
            ]
          },
          "metadata": {
            "tags": []
          }
        }
      ]
    },
    {
      "cell_type": "markdown",
      "metadata": {
        "id": "FUsge4qILwiC",
        "colab_type": "text"
      },
      "source": [
        "# Energy Result"
      ]
    },
    {
      "cell_type": "code",
      "metadata": {
        "id": "AYGsiRonLyug",
        "colab_type": "code",
        "colab": {
          "base_uri": "https://localhost:8080/",
          "height": 297
        },
        "outputId": "be529921-d582-45de-cd4f-841d9fd3a411"
      },
      "source": [
        "plt.plot(range(epochs), losses)\n",
        "plt.ylabel('energy values')\n",
        "plt.xlabel('epochs')"
      ],
      "execution_count": 38,
      "outputs": [
        {
          "output_type": "execute_result",
          "data": {
            "text/plain": [
              "Text(0.5, 0, 'epochs')"
            ]
          },
          "metadata": {
            "tags": []
          },
          "execution_count": 38
        },
        {
          "output_type": "display_data",
          "data": {
            "image/png": "[encoded data removed]",
            "text/plain": [
              "<Figure size 432x288 with 1 Axes>"
            ]
          },
          "metadata": {
            "tags": []
          }
        }
      ]
    }
  ]
}